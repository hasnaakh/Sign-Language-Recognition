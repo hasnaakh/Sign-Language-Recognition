{
 "cells": [
  {
   "cell_type": "markdown",
   "metadata": {},
   "source": [
    "# 1. Import and Install Dependencies"
   ]
  },
  {
   "cell_type": "code",
   "execution_count": 1,
   "metadata": {},
   "outputs": [
    {
     "name": "stdout",
     "output_type": "stream",
     "text": [
      "Requirement already satisfied: tensorflow==2.4.1 in f:\\anacondaaa2\\envs\\ev_8\\lib\\site-packages (2.4.1)\n",
      "Requirement already satisfied: tensorflow-gpu==2.4.1 in f:\\anacondaaa2\\envs\\ev_8\\lib\\site-packages (2.4.1)\n",
      "Requirement already satisfied: opencv-python in c:\\users\\dell g5 15\\appdata\\roaming\\python\\python38\\site-packages (4.9.0.80)\n",
      "Requirement already satisfied: mediapipe in f:\\anacondaaa2\\envs\\ev_8\\lib\\site-packages (0.8.11)\n",
      "Requirement already satisfied: scikit-learn in f:\\anacondaaa2\\envs\\ev_8\\lib\\site-packages (1.1.3)\n",
      "Requirement already satisfied: matplotlib in f:\\anacondaaa2\\envs\\ev_8\\lib\\site-packages (3.6.2)\n",
      "Requirement already satisfied: absl-py~=0.10 in f:\\anacondaaa2\\envs\\ev_8\\lib\\site-packages (from tensorflow==2.4.1) (0.15.0)\n",
      "Requirement already satisfied: astunparse~=1.6.3 in f:\\anacondaaa2\\envs\\ev_8\\lib\\site-packages (from tensorflow==2.4.1) (1.6.3)\n",
      "Requirement already satisfied: flatbuffers~=1.12.0 in f:\\anacondaaa2\\envs\\ev_8\\lib\\site-packages (from tensorflow==2.4.1) (1.12)\n",
      "Requirement already satisfied: google-pasta~=0.2 in f:\\anacondaaa2\\envs\\ev_8\\lib\\site-packages (from tensorflow==2.4.1) (0.2.0)\n",
      "Requirement already satisfied: h5py~=2.10.0 in f:\\anacondaaa2\\envs\\ev_8\\lib\\site-packages (from tensorflow==2.4.1) (2.10.0)\n",
      "Requirement already satisfied: keras-preprocessing~=1.1.2 in f:\\anacondaaa2\\envs\\ev_8\\lib\\site-packages (from tensorflow==2.4.1) (1.1.2)\n",
      "Requirement already satisfied: numpy~=1.19.2 in f:\\anacondaaa2\\envs\\ev_8\\lib\\site-packages (from tensorflow==2.4.1) (1.19.5)\n",
      "Requirement already satisfied: opt-einsum~=3.3.0 in f:\\anacondaaa2\\envs\\ev_8\\lib\\site-packages (from tensorflow==2.4.1) (3.3.0)\n",
      "Requirement already satisfied: protobuf>=3.9.2 in f:\\anacondaaa2\\envs\\ev_8\\lib\\site-packages (from tensorflow==2.4.1) (3.20.3)\n",
      "Requirement already satisfied: six~=1.15.0 in f:\\anacondaaa2\\envs\\ev_8\\lib\\site-packages (from tensorflow==2.4.1) (1.15.0)\n",
      "Requirement already satisfied: termcolor~=1.1.0 in f:\\anacondaaa2\\envs\\ev_8\\lib\\site-packages (from tensorflow==2.4.1) (1.1.0)\n",
      "Requirement already satisfied: typing-extensions~=3.7.4 in f:\\anacondaaa2\\envs\\ev_8\\lib\\site-packages (from tensorflow==2.4.1) (3.7.4.3)\n",
      "Requirement already satisfied: wheel~=0.35 in f:\\anacondaaa2\\envs\\ev_8\\lib\\site-packages (from tensorflow==2.4.1) (0.43.0)\n",
      "Requirement already satisfied: wrapt~=1.12.1 in f:\\anacondaaa2\\envs\\ev_8\\lib\\site-packages (from tensorflow==2.4.1) (1.12.1)\n",
      "Requirement already satisfied: gast==0.3.3 in f:\\anacondaaa2\\envs\\ev_8\\lib\\site-packages (from tensorflow==2.4.1) (0.3.3)\n",
      "Requirement already satisfied: tensorboard~=2.4 in f:\\anacondaaa2\\envs\\ev_8\\lib\\site-packages (from tensorflow==2.4.1) (2.11.2)\n",
      "Requirement already satisfied: tensorflow-estimator<2.5.0,>=2.4.0 in f:\\anacondaaa2\\envs\\ev_8\\lib\\site-packages (from tensorflow==2.4.1) (2.4.0)\n",
      "Requirement already satisfied: grpcio~=1.32.0 in f:\\anacondaaa2\\envs\\ev_8\\lib\\site-packages (from tensorflow==2.4.1) (1.32.0)\n",
      "Requirement already satisfied: attrs>=19.1.0 in f:\\anacondaaa2\\envs\\ev_8\\lib\\site-packages (from mediapipe) (23.1.0)\n",
      "Requirement already satisfied: opencv-contrib-python in f:\\anacondaaa2\\envs\\ev_8\\lib\\site-packages (from mediapipe) (4.9.0.80)\n",
      "Requirement already satisfied: scipy>=1.3.2 in f:\\anacondaaa2\\envs\\ev_8\\lib\\site-packages (from scikit-learn) (1.10.1)\n",
      "Requirement already satisfied: joblib>=1.0.0 in f:\\anacondaaa2\\envs\\ev_8\\lib\\site-packages (from scikit-learn) (1.2.0)\n",
      "Requirement already satisfied: threadpoolctl>=2.0.0 in f:\\anacondaaa2\\envs\\ev_8\\lib\\site-packages (from scikit-learn) (2.2.0)\n",
      "Requirement already satisfied: contourpy>=1.0.1 in f:\\anacondaaa2\\envs\\ev_8\\lib\\site-packages (from matplotlib) (1.0.5)\n",
      "Requirement already satisfied: cycler>=0.10 in f:\\anacondaaa2\\envs\\ev_8\\lib\\site-packages (from matplotlib) (0.11.0)\n",
      "Requirement already satisfied: fonttools>=4.22.0 in f:\\anacondaaa2\\envs\\ev_8\\lib\\site-packages (from matplotlib) (4.25.0)\n",
      "Requirement already satisfied: kiwisolver>=1.0.1 in f:\\anacondaaa2\\envs\\ev_8\\lib\\site-packages (from matplotlib) (1.4.4)\n",
      "Requirement already satisfied: packaging>=20.0 in f:\\anacondaaa2\\envs\\ev_8\\lib\\site-packages (from matplotlib) (23.2)\n",
      "Requirement already satisfied: pillow>=6.2.0 in f:\\anacondaaa2\\envs\\ev_8\\lib\\site-packages (from matplotlib) (10.2.0)\n",
      "Requirement already satisfied: pyparsing>=2.2.1 in f:\\anacondaaa2\\envs\\ev_8\\lib\\site-packages (from matplotlib) (2.4.7)\n",
      "Requirement already satisfied: python-dateutil>=2.7 in f:\\anacondaaa2\\envs\\ev_8\\lib\\site-packages (from matplotlib) (2.8.2)\n",
      "Requirement already satisfied: google-auth<3,>=1.6.3 in f:\\anacondaaa2\\envs\\ev_8\\lib\\site-packages (from tensorboard~=2.4->tensorflow==2.4.1) (2.29.0)\n",
      "Requirement already satisfied: google-auth-oauthlib<0.5,>=0.4.1 in f:\\anacondaaa2\\envs\\ev_8\\lib\\site-packages (from tensorboard~=2.4->tensorflow==2.4.1) (0.4.6)\n",
      "Requirement already satisfied: markdown>=2.6.8 in f:\\anacondaaa2\\envs\\ev_8\\lib\\site-packages (from tensorboard~=2.4->tensorflow==2.4.1) (3.4.1)\n",
      "Requirement already satisfied: requests<3,>=2.21.0 in f:\\anacondaaa2\\envs\\ev_8\\lib\\site-packages (from tensorboard~=2.4->tensorflow==2.4.1) (2.31.0)\n",
      "Requirement already satisfied: setuptools>=41.0.0 in f:\\anacondaaa2\\envs\\ev_8\\lib\\site-packages (from tensorboard~=2.4->tensorflow==2.4.1) (69.2.0)\n",
      "Requirement already satisfied: tensorboard-data-server<0.7.0,>=0.6.0 in f:\\anacondaaa2\\envs\\ev_8\\lib\\site-packages (from tensorboard~=2.4->tensorflow==2.4.1) (0.6.1)\n",
      "Requirement already satisfied: tensorboard-plugin-wit>=1.6.0 in f:\\anacondaaa2\\envs\\ev_8\\lib\\site-packages (from tensorboard~=2.4->tensorflow==2.4.1) (1.8.1)\n",
      "Requirement already satisfied: werkzeug>=1.0.1 in f:\\anacondaaa2\\envs\\ev_8\\lib\\site-packages (from tensorboard~=2.4->tensorflow==2.4.1) (2.3.8)\n",
      "Requirement already satisfied: cachetools<6.0,>=2.0.0 in f:\\anacondaaa2\\envs\\ev_8\\lib\\site-packages (from google-auth<3,>=1.6.3->tensorboard~=2.4->tensorflow==2.4.1) (4.2.2)\n",
      "Requirement already satisfied: pyasn1-modules>=0.2.1 in f:\\anacondaaa2\\envs\\ev_8\\lib\\site-packages (from google-auth<3,>=1.6.3->tensorboard~=2.4->tensorflow==2.4.1) (0.2.8)\n",
      "Requirement already satisfied: rsa<5,>=3.1.4 in f:\\anacondaaa2\\envs\\ev_8\\lib\\site-packages (from google-auth<3,>=1.6.3->tensorboard~=2.4->tensorflow==2.4.1) (4.7.2)\n",
      "Requirement already satisfied: requests-oauthlib>=0.7.0 in f:\\anacondaaa2\\envs\\ev_8\\lib\\site-packages (from google-auth-oauthlib<0.5,>=0.4.1->tensorboard~=2.4->tensorflow==2.4.1) (1.3.0)\n",
      "Requirement already satisfied: importlib-metadata>=4.4 in f:\\anacondaaa2\\envs\\ev_8\\lib\\site-packages (from markdown>=2.6.8->tensorboard~=2.4->tensorflow==2.4.1) (7.0.1)\n",
      "Requirement already satisfied: charset-normalizer<4,>=2 in f:\\anacondaaa2\\envs\\ev_8\\lib\\site-packages (from requests<3,>=2.21.0->tensorboard~=2.4->tensorflow==2.4.1) (3.3.2)\n",
      "Requirement already satisfied: idna<4,>=2.5 in f:\\anacondaaa2\\envs\\ev_8\\lib\\site-packages (from requests<3,>=2.21.0->tensorboard~=2.4->tensorflow==2.4.1) (3.4)\n",
      "Requirement already satisfied: urllib3<3,>=1.21.1 in f:\\anacondaaa2\\envs\\ev_8\\lib\\site-packages (from requests<3,>=2.21.0->tensorboard~=2.4->tensorflow==2.4.1) (2.2.1)\n",
      "Requirement already satisfied: certifi>=2017.4.17 in f:\\anacondaaa2\\envs\\ev_8\\lib\\site-packages (from requests<3,>=2.21.0->tensorboard~=2.4->tensorflow==2.4.1) (2024.2.2)\n",
      "Requirement already satisfied: MarkupSafe>=2.1.1 in f:\\anacondaaa2\\envs\\ev_8\\lib\\site-packages (from werkzeug>=1.0.1->tensorboard~=2.4->tensorflow==2.4.1) (2.1.3)\n",
      "Requirement already satisfied: zipp>=0.5 in f:\\anacondaaa2\\envs\\ev_8\\lib\\site-packages (from importlib-metadata>=4.4->markdown>=2.6.8->tensorboard~=2.4->tensorflow==2.4.1) (3.18.1)\n",
      "Requirement already satisfied: pyasn1<0.5.0,>=0.4.6 in f:\\anacondaaa2\\envs\\ev_8\\lib\\site-packages (from pyasn1-modules>=0.2.1->google-auth<3,>=1.6.3->tensorboard~=2.4->tensorflow==2.4.1) (0.4.8)\n",
      "Requirement already satisfied: oauthlib>=3.0.0 in f:\\anacondaaa2\\envs\\ev_8\\lib\\site-packages (from requests-oauthlib>=0.7.0->google-auth-oauthlib<0.5,>=0.4.1->tensorboard~=2.4->tensorflow==2.4.1) (3.2.2)\n"
     ]
    },
    {
     "name": "stderr",
     "output_type": "stream",
     "text": [
      "WARNING: Ignoring invalid distribution -harset-normalizer (f:\\anacondaaa2\\envs\\ev_8\\lib\\site-packages)\n",
      "WARNING: Ignoring invalid distribution -harset-normalizer (f:\\anacondaaa2\\envs\\ev_8\\lib\\site-packages)\n"
     ]
    }
   ],
   "source": [
    "!pip install tensorflow==2.4.1 tensorflow-gpu==2.4.1 opencv-python mediapipe scikit-learn matplotlib"
   ]
  },
  {
   "cell_type": "code",
   "execution_count": 2,
   "metadata": {},
   "outputs": [],
   "source": [
    "import cv2\n",
    "import numpy as np\n",
    "import os\n",
    "from matplotlib import pyplot as plt\n",
    "import time\n",
    "import mediapipe as mp"
   ]
  },
  {
   "cell_type": "markdown",
   "metadata": {},
   "source": [
    "# 2. Keypoints using MP Holistic"
   ]
  },
  {
   "cell_type": "code",
   "execution_count": 3,
   "metadata": {},
   "outputs": [],
   "source": [
    "mp_holistic = mp.solutions.holistic # Holistic model\n",
    "mp_drawing = mp.solutions.drawing_utils # Drawing utilities"
   ]
  },
  {
   "cell_type": "code",
   "execution_count": 4,
   "metadata": {},
   "outputs": [],
   "source": [
    "def mediapipe_detection(image, model):\n",
    "    image = cv2.cvtColor(image, cv2.COLOR_BGR2RGB) # COLOR CONVERSION BGR 2 RGB\n",
    "    image.flags.writeable = False                  # Image is no longer writeable\n",
    "    results = model.process(image)                 # Make prediction\n",
    "    image.flags.writeable = True                   # Image is now writeable \n",
    "    image = cv2.cvtColor(image, cv2.COLOR_RGB2BGR) # COLOR COVERSION RGB 2 BGR\n",
    "    return image, results"
   ]
  },
  {
   "cell_type": "code",
   "execution_count": 5,
   "metadata": {},
   "outputs": [],
   "source": [
    "def draw_landmarks(image, results):\n",
    "    mp_drawing.draw_landmarks(image, results.pose_landmarks, mp_holistic.POSE_CONNECTIONS) # Draw pose connections\n",
    "    mp_drawing.draw_landmarks(image, results.left_hand_landmarks, mp_holistic.HAND_CONNECTIONS) # Draw left hand connections\n",
    "    mp_drawing.draw_landmarks(image, results.right_hand_landmarks, mp_holistic.HAND_CONNECTIONS) # Draw right hand connections"
   ]
  },
  {
   "cell_type": "code",
   "execution_count": 6,
   "metadata": {},
   "outputs": [],
   "source": [
    "def draw_styled_landmarks(image, results): \n",
    "    # Draw pose connections\n",
    "    mp_drawing.draw_landmarks(image, results.pose_landmarks, mp_holistic.POSE_CONNECTIONS,\n",
    "                             mp_drawing.DrawingSpec(color=(80,22,10), thickness=2, circle_radius=4), \n",
    "                             mp_drawing.DrawingSpec(color=(80,44,121), thickness=2, circle_radius=2)\n",
    "                             ) \n",
    "    # Draw left hand connections\n",
    "    mp_drawing.draw_landmarks(image, results.left_hand_landmarks, mp_holistic.HAND_CONNECTIONS, \n",
    "                             mp_drawing.DrawingSpec(color=(121,22,76), thickness=2, circle_radius=4), \n",
    "                             mp_drawing.DrawingSpec(color=(121,44,250), thickness=2, circle_radius=2)\n",
    "                             ) \n",
    "    # Draw right hand connections  \n",
    "    mp_drawing.draw_landmarks(image, results.right_hand_landmarks, mp_holistic.HAND_CONNECTIONS, \n",
    "                             mp_drawing.DrawingSpec(color=(245,117,66), thickness=2, circle_radius=4), \n",
    "                             mp_drawing.DrawingSpec(color=(245,66,230), thickness=2, circle_radius=2)\n",
    "                             ) "
   ]
  },
  {
   "cell_type": "code",
   "execution_count": 7,
   "metadata": {},
   "outputs": [
    {
     "name": "stdout",
     "output_type": "stream",
     "text": [
      "<class 'mediapipe.python.solution_base.SolutionOutputs'>\n",
      "<class 'mediapipe.python.solution_base.SolutionOutputs'>\n",
      "<class 'mediapipe.python.solution_base.SolutionOutputs'>\n",
      "<class 'mediapipe.python.solution_base.SolutionOutputs'>\n",
      "<class 'mediapipe.python.solution_base.SolutionOutputs'>\n",
      "<class 'mediapipe.python.solution_base.SolutionOutputs'>\n",
      "<class 'mediapipe.python.solution_base.SolutionOutputs'>\n",
      "<class 'mediapipe.python.solution_base.SolutionOutputs'>\n",
      "<class 'mediapipe.python.solution_base.SolutionOutputs'>\n",
      "<class 'mediapipe.python.solution_base.SolutionOutputs'>\n",
      "<class 'mediapipe.python.solution_base.SolutionOutputs'>\n",
      "<class 'mediapipe.python.solution_base.SolutionOutputs'>\n",
      "<class 'mediapipe.python.solution_base.SolutionOutputs'>\n",
      "<class 'mediapipe.python.solution_base.SolutionOutputs'>\n",
      "<class 'mediapipe.python.solution_base.SolutionOutputs'>\n",
      "<class 'mediapipe.python.solution_base.SolutionOutputs'>\n",
      "<class 'mediapipe.python.solution_base.SolutionOutputs'>\n",
      "<class 'mediapipe.python.solution_base.SolutionOutputs'>\n",
      "<class 'mediapipe.python.solution_base.SolutionOutputs'>\n",
      "<class 'mediapipe.python.solution_base.SolutionOutputs'>\n",
      "<class 'mediapipe.python.solution_base.SolutionOutputs'>\n",
      "<class 'mediapipe.python.solution_base.SolutionOutputs'>\n",
      "<class 'mediapipe.python.solution_base.SolutionOutputs'>\n",
      "<class 'mediapipe.python.solution_base.SolutionOutputs'>\n",
      "<class 'mediapipe.python.solution_base.SolutionOutputs'>\n",
      "<class 'mediapipe.python.solution_base.SolutionOutputs'>\n",
      "<class 'mediapipe.python.solution_base.SolutionOutputs'>\n",
      "<class 'mediapipe.python.solution_base.SolutionOutputs'>\n",
      "<class 'mediapipe.python.solution_base.SolutionOutputs'>\n",
      "<class 'mediapipe.python.solution_base.SolutionOutputs'>\n",
      "<class 'mediapipe.python.solution_base.SolutionOutputs'>\n",
      "<class 'mediapipe.python.solution_base.SolutionOutputs'>\n",
      "<class 'mediapipe.python.solution_base.SolutionOutputs'>\n",
      "<class 'mediapipe.python.solution_base.SolutionOutputs'>\n",
      "<class 'mediapipe.python.solution_base.SolutionOutputs'>\n",
      "<class 'mediapipe.python.solution_base.SolutionOutputs'>\n",
      "<class 'mediapipe.python.solution_base.SolutionOutputs'>\n",
      "<class 'mediapipe.python.solution_base.SolutionOutputs'>\n",
      "<class 'mediapipe.python.solution_base.SolutionOutputs'>\n",
      "<class 'mediapipe.python.solution_base.SolutionOutputs'>\n",
      "<class 'mediapipe.python.solution_base.SolutionOutputs'>\n",
      "<class 'mediapipe.python.solution_base.SolutionOutputs'>\n",
      "<class 'mediapipe.python.solution_base.SolutionOutputs'>\n",
      "<class 'mediapipe.python.solution_base.SolutionOutputs'>\n",
      "<class 'mediapipe.python.solution_base.SolutionOutputs'>\n",
      "<class 'mediapipe.python.solution_base.SolutionOutputs'>\n",
      "<class 'mediapipe.python.solution_base.SolutionOutputs'>\n",
      "<class 'mediapipe.python.solution_base.SolutionOutputs'>\n",
      "<class 'mediapipe.python.solution_base.SolutionOutputs'>\n",
      "<class 'mediapipe.python.solution_base.SolutionOutputs'>\n",
      "<class 'mediapipe.python.solution_base.SolutionOutputs'>\n",
      "<class 'mediapipe.python.solution_base.SolutionOutputs'>\n",
      "<class 'mediapipe.python.solution_base.SolutionOutputs'>\n",
      "<class 'mediapipe.python.solution_base.SolutionOutputs'>\n",
      "<class 'mediapipe.python.solution_base.SolutionOutputs'>\n",
      "<class 'mediapipe.python.solution_base.SolutionOutputs'>\n",
      "<class 'mediapipe.python.solution_base.SolutionOutputs'>\n",
      "<class 'mediapipe.python.solution_base.SolutionOutputs'>\n",
      "<class 'mediapipe.python.solution_base.SolutionOutputs'>\n",
      "<class 'mediapipe.python.solution_base.SolutionOutputs'>\n",
      "<class 'mediapipe.python.solution_base.SolutionOutputs'>\n",
      "<class 'mediapipe.python.solution_base.SolutionOutputs'>\n",
      "<class 'mediapipe.python.solution_base.SolutionOutputs'>\n",
      "<class 'mediapipe.python.solution_base.SolutionOutputs'>\n",
      "<class 'mediapipe.python.solution_base.SolutionOutputs'>\n",
      "<class 'mediapipe.python.solution_base.SolutionOutputs'>\n",
      "<class 'mediapipe.python.solution_base.SolutionOutputs'>\n",
      "<class 'mediapipe.python.solution_base.SolutionOutputs'>\n",
      "<class 'mediapipe.python.solution_base.SolutionOutputs'>\n",
      "<class 'mediapipe.python.solution_base.SolutionOutputs'>\n",
      "<class 'mediapipe.python.solution_base.SolutionOutputs'>\n",
      "<class 'mediapipe.python.solution_base.SolutionOutputs'>\n",
      "<class 'mediapipe.python.solution_base.SolutionOutputs'>\n",
      "<class 'mediapipe.python.solution_base.SolutionOutputs'>\n",
      "<class 'mediapipe.python.solution_base.SolutionOutputs'>\n",
      "<class 'mediapipe.python.solution_base.SolutionOutputs'>\n",
      "<class 'mediapipe.python.solution_base.SolutionOutputs'>\n",
      "<class 'mediapipe.python.solution_base.SolutionOutputs'>\n",
      "<class 'mediapipe.python.solution_base.SolutionOutputs'>\n",
      "<class 'mediapipe.python.solution_base.SolutionOutputs'>\n",
      "<class 'mediapipe.python.solution_base.SolutionOutputs'>\n",
      "<class 'mediapipe.python.solution_base.SolutionOutputs'>\n",
      "<class 'mediapipe.python.solution_base.SolutionOutputs'>\n",
      "<class 'mediapipe.python.solution_base.SolutionOutputs'>\n",
      "<class 'mediapipe.python.solution_base.SolutionOutputs'>\n",
      "<class 'mediapipe.python.solution_base.SolutionOutputs'>\n",
      "<class 'mediapipe.python.solution_base.SolutionOutputs'>\n",
      "<class 'mediapipe.python.solution_base.SolutionOutputs'>\n",
      "<class 'mediapipe.python.solution_base.SolutionOutputs'>\n",
      "<class 'mediapipe.python.solution_base.SolutionOutputs'>\n",
      "<class 'mediapipe.python.solution_base.SolutionOutputs'>\n",
      "<class 'mediapipe.python.solution_base.SolutionOutputs'>\n",
      "<class 'mediapipe.python.solution_base.SolutionOutputs'>\n",
      "<class 'mediapipe.python.solution_base.SolutionOutputs'>\n",
      "<class 'mediapipe.python.solution_base.SolutionOutputs'>\n",
      "<class 'mediapipe.python.solution_base.SolutionOutputs'>\n",
      "<class 'mediapipe.python.solution_base.SolutionOutputs'>\n",
      "<class 'mediapipe.python.solution_base.SolutionOutputs'>\n",
      "<class 'mediapipe.python.solution_base.SolutionOutputs'>\n",
      "<class 'mediapipe.python.solution_base.SolutionOutputs'>\n",
      "<class 'mediapipe.python.solution_base.SolutionOutputs'>\n",
      "<class 'mediapipe.python.solution_base.SolutionOutputs'>\n",
      "<class 'mediapipe.python.solution_base.SolutionOutputs'>\n",
      "<class 'mediapipe.python.solution_base.SolutionOutputs'>\n",
      "<class 'mediapipe.python.solution_base.SolutionOutputs'>\n",
      "<class 'mediapipe.python.solution_base.SolutionOutputs'>\n",
      "<class 'mediapipe.python.solution_base.SolutionOutputs'>\n",
      "<class 'mediapipe.python.solution_base.SolutionOutputs'>\n",
      "<class 'mediapipe.python.solution_base.SolutionOutputs'>\n",
      "<class 'mediapipe.python.solution_base.SolutionOutputs'>\n",
      "<class 'mediapipe.python.solution_base.SolutionOutputs'>\n",
      "<class 'mediapipe.python.solution_base.SolutionOutputs'>\n",
      "<class 'mediapipe.python.solution_base.SolutionOutputs'>\n",
      "<class 'mediapipe.python.solution_base.SolutionOutputs'>\n",
      "<class 'mediapipe.python.solution_base.SolutionOutputs'>\n",
      "<class 'mediapipe.python.solution_base.SolutionOutputs'>\n",
      "<class 'mediapipe.python.solution_base.SolutionOutputs'>\n",
      "<class 'mediapipe.python.solution_base.SolutionOutputs'>\n",
      "<class 'mediapipe.python.solution_base.SolutionOutputs'>\n",
      "<class 'mediapipe.python.solution_base.SolutionOutputs'>\n",
      "<class 'mediapipe.python.solution_base.SolutionOutputs'>\n",
      "<class 'mediapipe.python.solution_base.SolutionOutputs'>\n",
      "<class 'mediapipe.python.solution_base.SolutionOutputs'>\n",
      "<class 'mediapipe.python.solution_base.SolutionOutputs'>\n",
      "<class 'mediapipe.python.solution_base.SolutionOutputs'>\n",
      "<class 'mediapipe.python.solution_base.SolutionOutputs'>\n",
      "<class 'mediapipe.python.solution_base.SolutionOutputs'>\n",
      "<class 'mediapipe.python.solution_base.SolutionOutputs'>\n",
      "<class 'mediapipe.python.solution_base.SolutionOutputs'>\n",
      "<class 'mediapipe.python.solution_base.SolutionOutputs'>\n",
      "<class 'mediapipe.python.solution_base.SolutionOutputs'>\n",
      "<class 'mediapipe.python.solution_base.SolutionOutputs'>\n",
      "<class 'mediapipe.python.solution_base.SolutionOutputs'>\n",
      "<class 'mediapipe.python.solution_base.SolutionOutputs'>\n",
      "<class 'mediapipe.python.solution_base.SolutionOutputs'>\n",
      "<class 'mediapipe.python.solution_base.SolutionOutputs'>\n",
      "<class 'mediapipe.python.solution_base.SolutionOutputs'>\n",
      "<class 'mediapipe.python.solution_base.SolutionOutputs'>\n",
      "<class 'mediapipe.python.solution_base.SolutionOutputs'>\n",
      "<class 'mediapipe.python.solution_base.SolutionOutputs'>\n",
      "<class 'mediapipe.python.solution_base.SolutionOutputs'>\n",
      "<class 'mediapipe.python.solution_base.SolutionOutputs'>\n",
      "<class 'mediapipe.python.solution_base.SolutionOutputs'>\n",
      "<class 'mediapipe.python.solution_base.SolutionOutputs'>\n",
      "<class 'mediapipe.python.solution_base.SolutionOutputs'>\n",
      "<class 'mediapipe.python.solution_base.SolutionOutputs'>\n",
      "<class 'mediapipe.python.solution_base.SolutionOutputs'>\n",
      "<class 'mediapipe.python.solution_base.SolutionOutputs'>\n",
      "<class 'mediapipe.python.solution_base.SolutionOutputs'>\n",
      "<class 'mediapipe.python.solution_base.SolutionOutputs'>\n",
      "<class 'mediapipe.python.solution_base.SolutionOutputs'>\n",
      "<class 'mediapipe.python.solution_base.SolutionOutputs'>\n",
      "<class 'mediapipe.python.solution_base.SolutionOutputs'>\n",
      "<class 'mediapipe.python.solution_base.SolutionOutputs'>\n",
      "<class 'mediapipe.python.solution_base.SolutionOutputs'>\n",
      "<class 'mediapipe.python.solution_base.SolutionOutputs'>\n",
      "<class 'mediapipe.python.solution_base.SolutionOutputs'>\n",
      "<class 'mediapipe.python.solution_base.SolutionOutputs'>\n",
      "<class 'mediapipe.python.solution_base.SolutionOutputs'>\n",
      "<class 'mediapipe.python.solution_base.SolutionOutputs'>\n",
      "<class 'mediapipe.python.solution_base.SolutionOutputs'>\n",
      "<class 'mediapipe.python.solution_base.SolutionOutputs'>\n",
      "<class 'mediapipe.python.solution_base.SolutionOutputs'>\n",
      "<class 'mediapipe.python.solution_base.SolutionOutputs'>\n"
     ]
    }
   ],
   "source": [
    "cap = cv2.VideoCapture(0)\n",
    "# Set mediapipe model \n",
    "with mp_holistic.Holistic(min_detection_confidence=0.5, min_tracking_confidence=0.5) as holistic:\n",
    "    while cap.isOpened():\n",
    "\n",
    "        # Read feed\n",
    "        ret, frame = cap.read()\n",
    "\n",
    "        # Make detections\n",
    "        image, results = mediapipe_detection(frame, holistic)\n",
    "        print(results)\n",
    "        \n",
    "        # Draw landmarks\n",
    "        draw_styled_landmarks(image, results)\n",
    "\n",
    "        # Show to screen\n",
    "        cv2.imshow('OpenCV Feed', image)\n",
    "\n",
    "        # Break gracefully\n",
    "        if cv2.waitKey(10) & 0xFF == ord('q'):\n",
    "            break\n",
    "    cap.release()\n",
    "    cv2.destroyAllWindows()"
   ]
  },
  {
   "cell_type": "code",
   "execution_count": 8,
   "metadata": {},
   "outputs": [
    {
     "data": {
      "text/plain": [
       "21"
      ]
     },
     "execution_count": 8,
     "metadata": {},
     "output_type": "execute_result"
    }
   ],
   "source": [
    "len(results.left_hand_landmarks.landmark)"
   ]
  },
  {
   "cell_type": "code",
   "execution_count": 9,
   "metadata": {},
   "outputs": [
    {
     "data": {
      "text/plain": [
       "mediapipe.python.solution_base.SolutionOutputs"
      ]
     },
     "execution_count": 9,
     "metadata": {},
     "output_type": "execute_result"
    }
   ],
   "source": [
    "results"
   ]
  },
  {
   "cell_type": "code",
   "execution_count": 10,
   "metadata": {},
   "outputs": [],
   "source": [
    "draw_landmarks(frame, results)"
   ]
  },
  {
   "cell_type": "code",
   "execution_count": 11,
   "metadata": {},
   "outputs": [
    {
     "data": {
      "text/plain": [
       "<matplotlib.image.AxesImage at 0x271bc198130>"
      ]
     },
     "execution_count": 11,
     "metadata": {},
     "output_type": "execute_result"
    },
    {
     "data": {
      "image/png": "[encoded data removed]",
      "text/plain": [
       "<Figure size 640x480 with 1 Axes>"
      ]
     },
     "metadata": {},
     "output_type": "display_data"
    }
   ],
   "source": [
    "plt.imshow(cv2.cvtColor(frame, cv2.COLOR_BGR2RGB))"
   ]
  },
  {
   "cell_type": "markdown",
   "metadata": {},
   "source": [
    "# 3. Extract Keypoint Values"
   ]
  },
  {
   "cell_type": "code",
   "execution_count": 12,
   "metadata": {},
   "outputs": [],
   "source": [
    "pose = []\n",
    "for res in results.pose_landmarks.landmark:\n",
    "    test = np.array([res.x, res.y, res.z, res.visibility])\n",
    "    pose.append(test)"
   ]
  },
  {
   "cell_type": "code",
   "execution_count": 13,
   "metadata": {},
   "outputs": [],
   "source": [
    "pose = np.array([[res.x, res.y, res.z, res.visibility] for res in results.pose_landmarks.landmark]).flatten() if results.pose_landmarks else np.zeros(132)\n",
    "lh = np.array([[res.x, res.y, res.z] for res in results.left_hand_landmarks.landmark]).flatten() if results.left_hand_landmarks else np.zeros(21*3)\n",
    "rh = np.array([[res.x, res.y, res.z] for res in results.right_hand_landmarks.landmark]).flatten() if results.right_hand_landmarks else np.zeros(21*3)"
   ]
  },
  {
   "cell_type": "code",
   "execution_count": 14,
   "metadata": {},
   "outputs": [],
   "source": [
    "def extract_keypoints(results):\n",
    "    pose = np.array([[res.x, res.y, res.z, res.visibility] for res in results.pose_landmarks.landmark]).flatten() if results.pose_landmarks else np.zeros(33*4)\n",
    "    lh = np.array([[res.x, res.y, res.z] for res in results.left_hand_landmarks.landmark]).flatten() if results.left_hand_landmarks else np.zeros(21*3)\n",
    "    rh = np.array([[res.x, res.y, res.z] for res in results.right_hand_landmarks.landmark]).flatten() if results.right_hand_landmarks else np.zeros(21*3)\n",
    "    return np.concatenate([pose, lh, rh])"
   ]
  },
  {
   "cell_type": "code",
   "execution_count": 15,
   "metadata": {},
   "outputs": [],
   "source": [
    "result_test = extract_keypoints(results)"
   ]
  },
  {
   "cell_type": "code",
   "execution_count": 16,
   "metadata": {},
   "outputs": [
    {
     "data": {
      "text/plain": [
       "array([ 5.15706837e-01,  4.99857634e-01, -7.67578781e-01,  9.99998808e-01,\n",
       "        5.38262486e-01,  4.45745349e-01, -7.04150558e-01,  9.99997318e-01,\n",
       "        5.52985072e-01,  4.45743889e-01, -7.03890502e-01,  9.99997735e-01,\n",
       "        5.67077279e-01,  4.47280824e-01, -7.03333974e-01,  9.99997437e-01,\n",
       "        4.92052704e-01,  4.48885083e-01, -7.06352115e-01,  9.99995828e-01,\n",
       "        4.77622569e-01,  4.50824887e-01, -7.05149591e-01,  9.99994695e-01,\n",
       "        4.64366734e-01,  4.54077929e-01, -7.05399156e-01,  9.99992430e-01,\n",
       "        5.92422366e-01,  4.82928872e-01, -3.28670025e-01,  9.99997854e-01,\n",
       "        4.49017465e-01,  4.91116107e-01, -3.16926956e-01,  9.99995470e-01,\n",
       "        5.52298903e-01,  5.64526379e-01, -6.31597638e-01,  9.99997079e-01,\n",
       "        4.91658837e-01,  5.67178667e-01, -6.32473290e-01,  9.99994814e-01,\n",
       "        7.37289488e-01,  7.78611481e-01, -1.41670525e-01,  9.99920726e-01,\n",
       "        3.39879245e-01,  8.11041296e-01, -1.09974489e-01,  9.98417377e-01,\n",
       "        9.79225278e-01,  9.89657164e-01, -6.11625433e-01,  9.30179775e-01,\n",
       "        2.70633042e-01,  1.23493302e+00, -3.68605815e-02,  1.91968068e-01,\n",
       "        8.44513118e-01,  7.05740869e-01, -1.24439335e+00,  9.94768977e-01,\n",
       "        2.62024224e-01,  1.52477503e+00, -4.66590941e-01,  2.31402993e-01,\n",
       "        8.31399143e-01,  5.52251577e-01, -1.37509024e+00,  9.88088369e-01,\n",
       "        2.40899757e-01,  1.63612127e+00, -5.30605912e-01,  3.48799974e-01,\n",
       "        7.83468962e-01,  5.27775824e-01, -1.25990844e+00,  9.90927994e-01,\n",
       "        2.65893847e-01,  1.62679529e+00, -6.19801760e-01,  4.84427094e-01,\n",
       "        7.60467649e-01,  6.02325201e-01, -1.22318101e+00,  9.88685548e-01,\n",
       "        2.81386197e-01,  1.58799934e+00, -5.21465361e-01,  4.86872941e-01,\n",
       "        7.03291774e-01,  1.49855828e+00, -9.10906419e-02,  4.04777587e-04,\n",
       "        4.20774937e-01,  1.51352382e+00,  9.82063860e-02,  1.84635675e-04,\n",
       "        7.03671515e-01,  2.12419033e+00, -3.02662700e-01,  8.31338693e-05,\n",
       "        4.39334095e-01,  2.12346148e+00,  1.97935313e-01,  2.75894145e-05,\n",
       "        7.02925086e-01,  2.65413594e+00,  1.18369065e-01,  2.23866095e-06,\n",
       "        4.52789366e-01,  2.65906191e+00,  6.15331471e-01,  2.19426781e-07,\n",
       "        7.11809278e-01,  2.73178864e+00,  1.26208678e-01,  2.15245041e-06,\n",
       "        4.48781013e-01,  2.74104738e+00,  6.39495194e-01,  1.07282267e-06,\n",
       "        6.57227635e-01,  2.82523179e+00, -4.82246786e-01,  1.36891886e-05,\n",
       "        5.02690375e-01,  2.82784796e+00,  2.83233467e-02,  7.28955183e-06,\n",
       "        8.49508166e-01,  7.11729527e-01,  3.26490408e-07,  7.85794318e-01,\n",
       "        6.95255756e-01, -2.61654183e-02,  7.30596662e-01,  6.46986127e-01,\n",
       "       -3.68802734e-02,  6.97453797e-01,  5.92512667e-01, -4.55802009e-02,\n",
       "        6.66336894e-01,  5.52691579e-01, -5.34003414e-02,  7.65414715e-01,\n",
       "        5.18184364e-01, -1.09685939e-02,  7.34503150e-01,  4.41224456e-01,\n",
       "       -2.70351470e-02,  7.16669679e-01,  3.92961532e-01, -4.33563143e-02,\n",
       "        7.04051495e-01,  3.48975718e-01, -5.56126200e-02,  7.99180329e-01,\n",
       "        4.94264245e-01, -1.11443223e-02,  7.82162547e-01,  4.01066333e-01,\n",
       "       -2.00991277e-02,  7.70502627e-01,  3.41825187e-01, -3.09328344e-02,\n",
       "        7.61666179e-01,  2.94586957e-01, -4.03025411e-02,  8.32728744e-01,\n",
       "        4.91877258e-01, -1.63029935e-02,  8.25709403e-01,  4.08041984e-01,\n",
       "       -2.44950783e-02,  8.17768633e-01,  3.55142504e-01, -3.15006785e-02,\n",
       "        8.09437633e-01,  3.10985714e-01, -3.85809094e-02,  8.67097437e-01,\n",
       "        5.05900025e-01, -2.51437854e-02,  8.70944679e-01,  4.47843343e-01,\n",
       "       -3.22030373e-02,  8.69118571e-01,  4.09411818e-01, -3.46092433e-02,\n",
       "        8.66541624e-01,  3.74169230e-01, -3.73933390e-02,  0.00000000e+00,\n",
       "        0.00000000e+00,  0.00000000e+00,  0.00000000e+00,  0.00000000e+00,\n",
       "        0.00000000e+00,  0.00000000e+00,  0.00000000e+00,  0.00000000e+00,\n",
       "        0.00000000e+00,  0.00000000e+00,  0.00000000e+00,  0.00000000e+00,\n",
       "        0.00000000e+00,  0.00000000e+00,  0.00000000e+00,  0.00000000e+00,\n",
       "        0.00000000e+00,  0.00000000e+00,  0.00000000e+00,  0.00000000e+00,\n",
       "        0.00000000e+00,  0.00000000e+00,  0.00000000e+00,  0.00000000e+00,\n",
       "        0.00000000e+00,  0.00000000e+00,  0.00000000e+00,  0.00000000e+00,\n",
       "        0.00000000e+00,  0.00000000e+00,  0.00000000e+00,  0.00000000e+00,\n",
       "        0.00000000e+00,  0.00000000e+00,  0.00000000e+00,  0.00000000e+00,\n",
       "        0.00000000e+00,  0.00000000e+00,  0.00000000e+00,  0.00000000e+00,\n",
       "        0.00000000e+00,  0.00000000e+00,  0.00000000e+00,  0.00000000e+00,\n",
       "        0.00000000e+00,  0.00000000e+00,  0.00000000e+00,  0.00000000e+00,\n",
       "        0.00000000e+00,  0.00000000e+00,  0.00000000e+00,  0.00000000e+00,\n",
       "        0.00000000e+00,  0.00000000e+00,  0.00000000e+00,  0.00000000e+00,\n",
       "        0.00000000e+00,  0.00000000e+00,  0.00000000e+00,  0.00000000e+00,\n",
       "        0.00000000e+00,  0.00000000e+00])"
      ]
     },
     "execution_count": 16,
     "metadata": {},
     "output_type": "execute_result"
    }
   ],
   "source": [
    "result_test"
   ]
  },
  {
   "cell_type": "code",
   "execution_count": 17,
   "metadata": {},
   "outputs": [],
   "source": [
    "np.save('0', result_test)"
   ]
  },
  {
   "cell_type": "code",
   "execution_count": 18,
   "metadata": {},
   "outputs": [
    {
     "data": {
      "text/plain": [
       "array([ 5.15706837e-01,  4.99857634e-01, -7.67578781e-01,  9.99998808e-01,\n",
       "        5.38262486e-01,  4.45745349e-01, -7.04150558e-01,  9.99997318e-01,\n",
       "        5.52985072e-01,  4.45743889e-01, -7.03890502e-01,  9.99997735e-01,\n",
       "        5.67077279e-01,  4.47280824e-01, -7.03333974e-01,  9.99997437e-01,\n",
       "        4.92052704e-01,  4.48885083e-01, -7.06352115e-01,  9.99995828e-01,\n",
       "        4.77622569e-01,  4.50824887e-01, -7.05149591e-01,  9.99994695e-01,\n",
       "        4.64366734e-01,  4.54077929e-01, -7.05399156e-01,  9.99992430e-01,\n",
       "        5.92422366e-01,  4.82928872e-01, -3.28670025e-01,  9.99997854e-01,\n",
       "        4.49017465e-01,  4.91116107e-01, -3.16926956e-01,  9.99995470e-01,\n",
       "        5.52298903e-01,  5.64526379e-01, -6.31597638e-01,  9.99997079e-01,\n",
       "        4.91658837e-01,  5.67178667e-01, -6.32473290e-01,  9.99994814e-01,\n",
       "        7.37289488e-01,  7.78611481e-01, -1.41670525e-01,  9.99920726e-01,\n",
       "        3.39879245e-01,  8.11041296e-01, -1.09974489e-01,  9.98417377e-01,\n",
       "        9.79225278e-01,  9.89657164e-01, -6.11625433e-01,  9.30179775e-01,\n",
       "        2.70633042e-01,  1.23493302e+00, -3.68605815e-02,  1.91968068e-01,\n",
       "        8.44513118e-01,  7.05740869e-01, -1.24439335e+00,  9.94768977e-01,\n",
       "        2.62024224e-01,  1.52477503e+00, -4.66590941e-01,  2.31402993e-01,\n",
       "        8.31399143e-01,  5.52251577e-01, -1.37509024e+00,  9.88088369e-01,\n",
       "        2.40899757e-01,  1.63612127e+00, -5.30605912e-01,  3.48799974e-01,\n",
       "        7.83468962e-01,  5.27775824e-01, -1.25990844e+00,  9.90927994e-01,\n",
       "        2.65893847e-01,  1.62679529e+00, -6.19801760e-01,  4.84427094e-01,\n",
       "        7.60467649e-01,  6.02325201e-01, -1.22318101e+00,  9.88685548e-01,\n",
       "        2.81386197e-01,  1.58799934e+00, -5.21465361e-01,  4.86872941e-01,\n",
       "        7.03291774e-01,  1.49855828e+00, -9.10906419e-02,  4.04777587e-04,\n",
       "        4.20774937e-01,  1.51352382e+00,  9.82063860e-02,  1.84635675e-04,\n",
       "        7.03671515e-01,  2.12419033e+00, -3.02662700e-01,  8.31338693e-05,\n",
       "        4.39334095e-01,  2.12346148e+00,  1.97935313e-01,  2.75894145e-05,\n",
       "        7.02925086e-01,  2.65413594e+00,  1.18369065e-01,  2.23866095e-06,\n",
       "        4.52789366e-01,  2.65906191e+00,  6.15331471e-01,  2.19426781e-07,\n",
       "        7.11809278e-01,  2.73178864e+00,  1.26208678e-01,  2.15245041e-06,\n",
       "        4.48781013e-01,  2.74104738e+00,  6.39495194e-01,  1.07282267e-06,\n",
       "        6.57227635e-01,  2.82523179e+00, -4.82246786e-01,  1.36891886e-05,\n",
       "        5.02690375e-01,  2.82784796e+00,  2.83233467e-02,  7.28955183e-06,\n",
       "        8.49508166e-01,  7.11729527e-01,  3.26490408e-07,  7.85794318e-01,\n",
       "        6.95255756e-01, -2.61654183e-02,  7.30596662e-01,  6.46986127e-01,\n",
       "       -3.68802734e-02,  6.97453797e-01,  5.92512667e-01, -4.55802009e-02,\n",
       "        6.66336894e-01,  5.52691579e-01, -5.34003414e-02,  7.65414715e-01,\n",
       "        5.18184364e-01, -1.09685939e-02,  7.34503150e-01,  4.41224456e-01,\n",
       "       -2.70351470e-02,  7.16669679e-01,  3.92961532e-01, -4.33563143e-02,\n",
       "        7.04051495e-01,  3.48975718e-01, -5.56126200e-02,  7.99180329e-01,\n",
       "        4.94264245e-01, -1.11443223e-02,  7.82162547e-01,  4.01066333e-01,\n",
       "       -2.00991277e-02,  7.70502627e-01,  3.41825187e-01, -3.09328344e-02,\n",
       "        7.61666179e-01,  2.94586957e-01, -4.03025411e-02,  8.32728744e-01,\n",
       "        4.91877258e-01, -1.63029935e-02,  8.25709403e-01,  4.08041984e-01,\n",
       "       -2.44950783e-02,  8.17768633e-01,  3.55142504e-01, -3.15006785e-02,\n",
       "        8.09437633e-01,  3.10985714e-01, -3.85809094e-02,  8.67097437e-01,\n",
       "        5.05900025e-01, -2.51437854e-02,  8.70944679e-01,  4.47843343e-01,\n",
       "       -3.22030373e-02,  8.69118571e-01,  4.09411818e-01, -3.46092433e-02,\n",
       "        8.66541624e-01,  3.74169230e-01, -3.73933390e-02,  0.00000000e+00,\n",
       "        0.00000000e+00,  0.00000000e+00,  0.00000000e+00,  0.00000000e+00,\n",
       "        0.00000000e+00,  0.00000000e+00,  0.00000000e+00,  0.00000000e+00,\n",
       "        0.00000000e+00,  0.00000000e+00,  0.00000000e+00,  0.00000000e+00,\n",
       "        0.00000000e+00,  0.00000000e+00,  0.00000000e+00,  0.00000000e+00,\n",
       "        0.00000000e+00,  0.00000000e+00,  0.00000000e+00,  0.00000000e+00,\n",
       "        0.00000000e+00,  0.00000000e+00,  0.00000000e+00,  0.00000000e+00,\n",
       "        0.00000000e+00,  0.00000000e+00,  0.00000000e+00,  0.00000000e+00,\n",
       "        0.00000000e+00,  0.00000000e+00,  0.00000000e+00,  0.00000000e+00,\n",
       "        0.00000000e+00,  0.00000000e+00,  0.00000000e+00,  0.00000000e+00,\n",
       "        0.00000000e+00,  0.00000000e+00,  0.00000000e+00,  0.00000000e+00,\n",
       "        0.00000000e+00,  0.00000000e+00,  0.00000000e+00,  0.00000000e+00,\n",
       "        0.00000000e+00,  0.00000000e+00,  0.00000000e+00,  0.00000000e+00,\n",
       "        0.00000000e+00,  0.00000000e+00,  0.00000000e+00,  0.00000000e+00,\n",
       "        0.00000000e+00,  0.00000000e+00,  0.00000000e+00,  0.00000000e+00,\n",
       "        0.00000000e+00,  0.00000000e+00,  0.00000000e+00,  0.00000000e+00,\n",
       "        0.00000000e+00,  0.00000000e+00])"
      ]
     },
     "execution_count": 18,
     "metadata": {},
     "output_type": "execute_result"
    }
   ],
   "source": [
    "np.load('0.npy')"
   ]
  },
  {
   "cell_type": "markdown",
   "metadata": {},
   "source": [
    "# 4. Setup Folders for Collection"
   ]
  },
  {
   "cell_type": "code",
   "execution_count": 19,
   "metadata": {},
   "outputs": [],
   "source": [
    "# Path for exported data, numpy arrays\n",
    "DATA_PATH = os.path.join('MP_Data') \n",
    "\n",
    "# Actions that we try to detect\n",
    "actions = np.array(['hello', 'thanks', 'iloveyou', 'yes', 'no', 'help'])\n",
    "\n",
    "# Thirty videos worth of data\n",
    "no_sequences = 30\n",
    "\n",
    "# Videos are going to be 30 frames in length\n",
    "sequence_length = 30"
   ]
  },
  {
   "cell_type": "code",
   "execution_count": 20,
   "metadata": {},
   "outputs": [],
   "source": [
    "for action in actions: \n",
    "    for sequence in range(no_sequences):\n",
    "        try: \n",
    "            os.makedirs(os.path.join(DATA_PATH, action, str(sequence)))\n",
    "        except:\n",
    "            pass"
   ]
  },
  {
   "cell_type": "markdown",
   "metadata": {},
   "source": [
    "# 5. Collect Keypoint Values for Training and Testing"
   ]
  },
  {
   "cell_type": "code",
   "execution_count": 21,
   "metadata": {},
   "outputs": [],
   "source": [
    "cap = cv2.VideoCapture(0)\n",
    "# Set mediapipe model \n",
    "with mp_holistic.Holistic(min_detection_confidence=0.5, min_tracking_confidence=0.5) as holistic:\n",
    "    \n",
    "    # NEW LOOP\n",
    "    # Loop through actions\n",
    "    for action in actions:\n",
    "        # Loop through sequences aka videos\n",
    "        for sequence in range(no_sequences):\n",
    "            # Loop through video length aka sequence length\n",
    "            for frame_num in range(sequence_length):\n",
    "\n",
    "                # Read feed\n",
    "                ret, frame = cap.read()\n",
    "\n",
    "                # Make detections\n",
    "                image, results = mediapipe_detection(frame, holistic)\n",
    "#                 print(results)\n",
    "\n",
    "                # Draw landmarks\n",
    "                draw_styled_landmarks(image, results)\n",
    "                \n",
    "                # NEW Apply wait logic\n",
    "                if frame_num == 0: \n",
    "                    cv2.putText(image, 'STARTING COLLECTION', (120,200), \n",
    "                               cv2.FONT_HERSHEY_SIMPLEX, 1, (0,255, 0), 4, cv2.LINE_AA)\n",
    "                    cv2.putText(image, 'Collecting frames for {} Video Number {}'.format(action, sequence), (15,12), \n",
    "                               cv2.FONT_HERSHEY_SIMPLEX, 0.5, (0, 0, 255), 1, cv2.LINE_AA)\n",
    "                    # Show to screen\n",
    "                    cv2.imshow('OpenCV Feed', image)\n",
    "                    cv2.waitKey(2000)\n",
    "                else: \n",
    "                    cv2.putText(image, 'Collecting frames for {} Video Number {}'.format(action, sequence), (15,12), \n",
    "                               cv2.FONT_HERSHEY_SIMPLEX, 0.5, (0, 0, 255), 1, cv2.LINE_AA)\n",
    "                    # Show to screen\n",
    "                    cv2.imshow('OpenCV Feed', image)\n",
    "                \n",
    "                # NEW Export keypoints\n",
    "                keypoints = extract_keypoints(results)\n",
    "                npy_path = os.path.join(DATA_PATH, action, str(sequence), str(frame_num))\n",
    "                np.save(npy_path, keypoints)\n",
    "\n",
    "                # Break gracefully\n",
    "                if cv2.waitKey(10) & 0xFF == ord('q'):\n",
    "                    break\n",
    "                    \n",
    "    cap.release()\n",
    "    cv2.destroyAllWindows()"
   ]
  },
  {
   "cell_type": "code",
   "execution_count": 22,
   "metadata": {},
   "outputs": [],
   "source": [
    "cap.release()\n",
    "cv2.destroyAllWindows()"
   ]
  },
  {
   "cell_type": "markdown",
   "metadata": {},
   "source": [
    "# 6. Preprocess Data and Create Labels and Features"
   ]
  },
  {
   "cell_type": "code",
   "execution_count": 23,
   "metadata": {},
   "outputs": [],
   "source": [
    "from sklearn.model_selection import train_test_split\n",
    "from tensorflow.keras.utils import to_categorical"
   ]
  },
  {
   "cell_type": "code",
   "execution_count": 24,
   "metadata": {},
   "outputs": [],
   "source": [
    "label_map = {label:num for num, label in enumerate(actions)}"
   ]
  },
  {
   "cell_type": "code",
   "execution_count": 25,
   "metadata": {},
   "outputs": [
    {
     "data": {
      "text/plain": [
       "{'hello': 0, 'thanks': 1, 'iloveyou': 2, 'yes': 3, 'no': 4, 'help': 5}"
      ]
     },
     "execution_count": 25,
     "metadata": {},
     "output_type": "execute_result"
    }
   ],
   "source": [
    "label_map"
   ]
  },
  {
   "cell_type": "code",
   "execution_count": 26,
   "metadata": {},
   "outputs": [],
   "source": [
    "sequences, labels = [], []\n",
    "for action in actions:\n",
    "    for sequence in range(no_sequences):\n",
    "        window = []\n",
    "        for frame_num in range(sequence_length):\n",
    "            res = np.load(os.path.join(DATA_PATH, action, str(sequence), \"{}.npy\".format(frame_num)))\n",
    "            window.append(res)\n",
    "        sequences.append(window)\n",
    "        labels.append(label_map[action])"
   ]
  },
  {
   "cell_type": "code",
   "execution_count": 27,
   "metadata": {},
   "outputs": [
    {
     "data": {
      "text/plain": [
       "(180, 30, 258)"
      ]
     },
     "execution_count": 27,
     "metadata": {},
     "output_type": "execute_result"
    }
   ],
   "source": [
    "np.array(sequences).shape"
   ]
  },
  {
   "cell_type": "code",
   "execution_count": 28,
   "metadata": {},
   "outputs": [
    {
     "data": {
      "text/plain": [
       "(180,)"
      ]
     },
     "execution_count": 28,
     "metadata": {},
     "output_type": "execute_result"
    }
   ],
   "source": [
    "np.array(labels).shape"
   ]
  },
  {
   "cell_type": "code",
   "execution_count": 29,
   "metadata": {},
   "outputs": [],
   "source": [
    "X = np.array(sequences)"
   ]
  },
  {
   "cell_type": "code",
   "execution_count": 30,
   "metadata": {},
   "outputs": [
    {
     "data": {
      "text/plain": [
       "(180, 30, 258)"
      ]
     },
     "execution_count": 30,
     "metadata": {},
     "output_type": "execute_result"
    }
   ],
   "source": [
    "X.shape"
   ]
  },
  {
   "cell_type": "code",
   "execution_count": 31,
   "metadata": {},
   "outputs": [],
   "source": [
    "y = to_categorical(labels).astype(int)"
   ]
  },
  {
   "cell_type": "code",
   "execution_count": 32,
   "metadata": {},
   "outputs": [
    {
     "data": {
      "text/plain": [
       "array([[1, 0, 0, 0, 0, 0],\n",
       "       [1, 0, 0, 0, 0, 0],\n",
       "       [1, 0, 0, 0, 0, 0],\n",
       "       ...,\n",
       "       [0, 0, 0, 0, 0, 1],\n",
       "       [0, 0, 0, 0, 0, 1],\n",
       "       [0, 0, 0, 0, 0, 1]])"
      ]
     },
     "execution_count": 32,
     "metadata": {},
     "output_type": "execute_result"
    }
   ],
   "source": [
    "y"
   ]
  },
  {
   "cell_type": "code",
   "execution_count": 33,
   "metadata": {},
   "outputs": [],
   "source": [
    "X_train, X_test, y_train, y_test = train_test_split(X, y, test_size=0.05)"
   ]
  },
  {
   "cell_type": "code",
   "execution_count": 34,
   "metadata": {},
   "outputs": [
    {
     "data": {
      "text/plain": [
       "(9, 6)"
      ]
     },
     "execution_count": 34,
     "metadata": {},
     "output_type": "execute_result"
    }
   ],
   "source": [
    "y_test.shape"
   ]
  },
  {
   "cell_type": "markdown",
   "metadata": {},
   "source": [
    "# 7. Build and Train LSTM Neural Network"
   ]
  },
  {
   "cell_type": "code",
   "execution_count": 35,
   "metadata": {},
   "outputs": [],
   "source": [
    "from tensorflow.keras.models import Sequential\n",
    "from tensorflow.keras.layers import LSTM, Dense\n",
    "from tensorflow.keras.callbacks import TensorBoard\n",
    "from sklearn.model_selection import GridSearchCV\n",
    "from tensorflow.keras.wrappers.scikit_learn import KerasClassifier"
   ]
  },
  {
   "cell_type": "code",
   "execution_count": 36,
   "metadata": {},
   "outputs": [],
   "source": [
    "import tensorflow as tf\n",
    "from tensorflow.keras import layers, models\n",
    "from tensorflow.keras.utils import plot_model\n",
    "import matplotlib.pyplot as plt"
   ]
  },
  {
   "cell_type": "code",
   "execution_count": 79,
   "metadata": {},
   "outputs": [],
   "source": [
    "log_dir = os.path.join('Logs')\n",
    "tb_callback = TensorBoard(log_dir=log_dir)"
   ]
  },
  {
   "cell_type": "code",
   "execution_count": 80,
   "metadata": {},
   "outputs": [],
   "source": [
    "def create_model(optimizer='adam', units=64, activation='relu'):\n",
    "    model = Sequential()\n",
    "    model.add(LSTM(units, return_sequences=True, activation=activation, input_shape=(30,258)))\n",
    "    model.add(LSTM(units*2, return_sequences=True, activation=activation))\n",
    "    model.add(LSTM(units, return_sequences=False, activation=activation))\n",
    "    model.add(Dense(64, activation=activation))\n",
    "    model.add(Dense(32, activation=activation))\n",
    "    model.add(Dense(actions.shape[0], activation='softmax'))\n",
    "    model.compile(optimizer=optimizer, loss='categorical_crossentropy', metrics=['accuracy'])\n",
    "    return model"
   ]
  },
  {
   "cell_type": "code",
   "execution_count": 81,
   "metadata": {},
   "outputs": [],
   "source": [
    "res = [.7, 0.2, 0.1]"
   ]
  },
  {
   "cell_type": "code",
   "execution_count": 82,
   "metadata": {},
   "outputs": [
    {
     "data": {
      "text/plain": [
       "'hello'"
      ]
     },
     "execution_count": 82,
     "metadata": {},
     "output_type": "execute_result"
    }
   ],
   "source": [
    "actions[np.argmax(res)]"
   ]
  },
  {
   "cell_type": "code",
   "execution_count": 83,
   "metadata": {},
   "outputs": [],
   "source": [
    "model = KerasClassifier(build_fn=create_model, verbose=0)"
   ]
  },
  {
   "cell_type": "code",
   "execution_count": 84,
   "metadata": {},
   "outputs": [],
   "source": [
    "# Define hyperparameters to tune\n",
    "param_grid = {\n",
    "    'optimizer': ['adam', 'rmsprop'],\n",
    "    'units': [64, 128],\n",
    "    'activation': ['relu', 'tanh']\n",
    "}"
   ]
  },
  {
   "cell_type": "code",
   "execution_count": 85,
   "metadata": {},
   "outputs": [],
   "source": [
    "# Perform grid search\n",
    "grid = GridSearchCV(estimator=model, param_grid=param_grid, n_jobs=-1, cv=3)\n",
    "grid_result = grid.fit(X_train, y_train)"
   ]
  },
  {
   "cell_type": "code",
   "execution_count": 86,
   "metadata": {},
   "outputs": [
    {
     "name": "stdout",
     "output_type": "stream",
     "text": [
      "Best: 0.243056 using {'activation': 'tanh', 'optimizer': 'adam', 'units': 64}\n"
     ]
    }
   ],
   "source": [
    "print(\"Best: %f using %s\" % (grid_result.best_score_, grid_result.best_params_))"
   ]
  },
  {
   "cell_type": "code",
   "execution_count": 87,
   "metadata": {},
   "outputs": [],
   "source": [
    "# Get the best model from grid search\n",
    "best_model = grid_result.best_estimator_"
   ]
  },
  {
   "cell_type": "code",
   "execution_count": 88,
   "metadata": {},
   "outputs": [],
   "source": [
    "# Compile the best model\n",
    "best_model.model.compile(optimizer='adam', loss='categorical_crossentropy', metrics=['accuracy'])"
   ]
  },
  {
   "cell_type": "code",
   "execution_count": 89,
   "metadata": {},
   "outputs": [
    {
     "data": {
      "text/plain": [
       "<tensorflow.python.keras.callbacks.History at 0x27218981ee0>"
      ]
     },
     "execution_count": 89,
     "metadata": {},
     "output_type": "execute_result"
    }
   ],
   "source": [
    "# Train the best model\n",
    "tb_callback = TensorBoard(log_dir=log_dir)\n",
    "best_model.fit(X_train, y_train, epochs=2000, callbacks=[tb_callback])"
   ]
  },
  {
   "cell_type": "code",
   "execution_count": 90,
   "metadata": {},
   "outputs": [
    {
     "data": {
      "image/png": "[encoded data removed]",
      "text/plain": [
       "<IPython.core.display.Image object>"
      ]
     },
     "execution_count": 90,
     "metadata": {},
     "output_type": "execute_result"
    }
   ],
   "source": [
    "plot_model(best_model.model, to_file='model_architecture.png', show_shapes=True)"
   ]
  },
  {
   "cell_type": "code",
   "execution_count": 91,
   "metadata": {},
   "outputs": [],
   "source": [
    "from sklearn.model_selection import train_test_split\n",
    "\n",
    "# Split your original dataset into training and validation sets\n",
    "X_train, X_val, y_train, y_val = train_test_split(X, y, test_size=0.2, random_state=42)"
   ]
  },
  {
   "cell_type": "code",
   "execution_count": 92,
   "metadata": {},
   "outputs": [],
   "source": [
    "history = best_model.fit(X_train, y_train, epochs=2000, validation_data=(X_val, y_val))"
   ]
  },
  {
   "cell_type": "code",
   "execution_count": 93,
   "metadata": {},
   "outputs": [
    {
     "data": {
      "image/png": "[encoded data removed]",
      "text/plain": [
       "<Figure size 640x480 with 1 Axes>"
      ]
     },
     "metadata": {},
     "output_type": "display_data"
    }
   ],
   "source": [
    "plt.plot(history.history['loss'], label='train_loss')\n",
    "plt.plot(history.history['val_loss'], label='val_loss')\n",
    "plt.xlabel('Epoch')\n",
    "plt.ylabel('Loss')\n",
    "plt.title('Loss Over Time')\n",
    "plt.legend()\n",
    "plt.show()"
   ]
  },
  {
   "cell_type": "code",
   "execution_count": 94,
   "metadata": {},
   "outputs": [
    {
     "data": {
      "image/png": "[encoded data removed]",
      "text/plain": [
       "<Figure size 640x480 with 1 Axes>"
      ]
     },
     "metadata": {},
     "output_type": "display_data"
    }
   ],
   "source": [
    "plt.plot(history.history['accuracy'], label='train_accuracy')\n",
    "plt.plot(history.history['val_accuracy'], label='val_accuracy')\n",
    "plt.xlabel('Epoch')\n",
    "plt.ylabel('Accuracy')\n",
    "plt.title('Accuracy Over Time')\n",
    "plt.legend()\n",
    "plt.show()"
   ]
  },
  {
   "cell_type": "code",
   "execution_count": 95,
   "metadata": {},
   "outputs": [
    {
     "name": "stdout",
     "output_type": "stream",
     "text": [
      "Model: \"sequential_7\"\n",
      "_________________________________________________________________\n",
      "Layer (type)                 Output Shape              Param #   \n",
      "=================================================================\n",
      "lstm_21 (LSTM)               (None, 30, 64)            82688     \n",
      "_________________________________________________________________\n",
      "lstm_22 (LSTM)               (None, 30, 128)           98816     \n",
      "_________________________________________________________________\n",
      "lstm_23 (LSTM)               (None, 64)                49408     \n",
      "_________________________________________________________________\n",
      "dense_21 (Dense)             (None, 64)                4160      \n",
      "_________________________________________________________________\n",
      "dense_22 (Dense)             (None, 32)                2080      \n",
      "_________________________________________________________________\n",
      "dense_23 (Dense)             (None, 6)                 198       \n",
      "=================================================================\n",
      "Total params: 237,350\n",
      "Trainable params: 237,350\n",
      "Non-trainable params: 0\n",
      "_________________________________________________________________\n"
     ]
    }
   ],
   "source": [
    "best_model.model.summary()"
   ]
  },
  {
   "cell_type": "markdown",
   "metadata": {},
   "source": [
    "# 8. Make Predictions"
   ]
  },
  {
   "cell_type": "code",
   "execution_count": 96,
   "metadata": {},
   "outputs": [],
   "source": [
    "res = best_model.model.predict(X_test)"
   ]
  },
  {
   "cell_type": "code",
   "execution_count": 97,
   "metadata": {},
   "outputs": [
    {
     "data": {
      "text/plain": [
       "'hello'"
      ]
     },
     "execution_count": 97,
     "metadata": {},
     "output_type": "execute_result"
    }
   ],
   "source": [
    "actions[np.argmax(res[7])]"
   ]
  },
  {
   "cell_type": "code",
   "execution_count": 98,
   "metadata": {},
   "outputs": [
    {
     "data": {
      "text/plain": [
       "'hello'"
      ]
     },
     "execution_count": 98,
     "metadata": {},
     "output_type": "execute_result"
    }
   ],
   "source": [
    "actions[np.argmax(y_test[7])]"
   ]
  },
  {
   "cell_type": "markdown",
   "metadata": {},
   "source": [
    "# 9. Save Weights"
   ]
  },
  {
   "cell_type": "code",
   "execution_count": 99,
   "metadata": {},
   "outputs": [],
   "source": [
    "best_model.model.save('action.h5')"
   ]
  },
  {
   "cell_type": "code",
   "execution_count": 100,
   "metadata": {},
   "outputs": [],
   "source": [
    "best_model.model.load_weights('action.h5')"
   ]
  },
  {
   "cell_type": "markdown",
   "metadata": {},
   "source": [
    "# 10. Evaluation using Confusion Matrix and Accuracy"
   ]
  },
  {
   "cell_type": "code",
   "execution_count": 101,
   "metadata": {},
   "outputs": [],
   "source": [
    "from sklearn.metrics import multilabel_confusion_matrix, accuracy_score"
   ]
  },
  {
   "cell_type": "code",
   "execution_count": 102,
   "metadata": {},
   "outputs": [],
   "source": [
    "yhat = best_model.model.predict(X_test)"
   ]
  },
  {
   "cell_type": "code",
   "execution_count": 103,
   "metadata": {},
   "outputs": [],
   "source": [
    "ytrue = np.argmax(y_test, axis=1).tolist()\n",
    "yhat = np.argmax(yhat, axis=1).tolist()"
   ]
  },
  {
   "cell_type": "code",
   "execution_count": 104,
   "metadata": {},
   "outputs": [
    {
     "data": {
      "text/plain": [
       "array([[[6, 0],\n",
       "        [0, 3]],\n",
       "\n",
       "       [[8, 0],\n",
       "        [0, 1]],\n",
       "\n",
       "       [[8, 0],\n",
       "        [0, 1]],\n",
       "\n",
       "       [[8, 0],\n",
       "        [0, 1]],\n",
       "\n",
       "       [[6, 0],\n",
       "        [0, 3]]], dtype=int64)"
      ]
     },
     "execution_count": 104,
     "metadata": {},
     "output_type": "execute_result"
    }
   ],
   "source": [
    "multilabel_confusion_matrix(ytrue, yhat)"
   ]
  },
  {
   "cell_type": "code",
   "execution_count": 105,
   "metadata": {},
   "outputs": [
    {
     "data": {
      "text/plain": [
       "1.0"
      ]
     },
     "execution_count": 105,
     "metadata": {},
     "output_type": "execute_result"
    }
   ],
   "source": [
    "accuracy_score(ytrue, yhat)"
   ]
  },
  {
   "cell_type": "markdown",
   "metadata": {},
   "source": [
    "# 11. Test in Real Time"
   ]
  },
  {
   "cell_type": "code",
   "execution_count": 115,
   "metadata": {},
   "outputs": [],
   "source": [
    "# from tensorflow.keras.models import load_model"
   ]
  },
  {
   "cell_type": "code",
   "execution_count": 116,
   "metadata": {},
   "outputs": [],
   "source": [
    "# best_model = load_model('The path of model in your device')"
   ]
  },
  {
   "cell_type": "code",
   "execution_count": 117,
   "metadata": {},
   "outputs": [],
   "source": [
    "# best_model.model = load_model('The path of model in your device')"
   ]
  },
  {
   "cell_type": "code",
   "execution_count": 118,
   "metadata": {},
   "outputs": [],
   "source": [
    "# actions = ['hello', 'thanks', 'iloveyou', 'yes', 'no', 'help']"
   ]
  },
  {
   "cell_type": "code",
   "execution_count": 106,
   "metadata": {},
   "outputs": [],
   "source": [
    "colors = [(245,117,16), (117,245,16), (16,117,245), (245,16,117), (117,16,245), (16,245,117)]\n",
    "\n",
    "def prob_viz(res, actions, input_frame, colors):\n",
    "    output_frame = input_frame.copy()\n",
    "    \n",
    "    # Check if res is a single probability value\n",
    "    if not isinstance(res, np.ndarray):\n",
    "        res = np.array([res])  # Convert single value to array\n",
    "    \n",
    "    for num, prob in enumerate(res):\n",
    "        # Check if num is within the range of colors\n",
    "        if num < len(colors):\n",
    "            cv2.rectangle(output_frame, (0,60+num*40), (int(prob*100), 90+num*40), colors[num], -1)\n",
    "            cv2.putText(output_frame, actions[num], (0, 85+num*40), cv2.FONT_HERSHEY_SIMPLEX, 1, (255,255,255), 2, cv2.LINE_AA)\n",
    "        else:\n",
    "            print(\"Warning: Not enough colors provided for visualization.\")\n",
    "            break\n",
    "\n",
    "    return output_frame"
   ]
  },
  {
   "cell_type": "code",
   "execution_count": 107,
   "metadata": {},
   "outputs": [
    {
     "name": "stdout",
     "output_type": "stream",
     "text": [
      "<class 'int'>\n"
     ]
    }
   ],
   "source": [
    "print(type(sequence))"
   ]
  },
  {
   "cell_type": "code",
   "execution_count": 108,
   "metadata": {},
   "outputs": [
    {
     "name": "stdout",
     "output_type": "stream",
     "text": [
      "<class 'mediapipe.python.solution_base.SolutionOutputs'>\n",
      "<class 'mediapipe.python.solution_base.SolutionOutputs'>\n",
      "<class 'mediapipe.python.solution_base.SolutionOutputs'>\n",
      "<class 'mediapipe.python.solution_base.SolutionOutputs'>\n",
      "<class 'mediapipe.python.solution_base.SolutionOutputs'>\n",
      "<class 'mediapipe.python.solution_base.SolutionOutputs'>\n",
      "<class 'mediapipe.python.solution_base.SolutionOutputs'>\n",
      "<class 'mediapipe.python.solution_base.SolutionOutputs'>\n",
      "<class 'mediapipe.python.solution_base.SolutionOutputs'>\n",
      "<class 'mediapipe.python.solution_base.SolutionOutputs'>\n",
      "<class 'mediapipe.python.solution_base.SolutionOutputs'>\n",
      "<class 'mediapipe.python.solution_base.SolutionOutputs'>\n",
      "<class 'mediapipe.python.solution_base.SolutionOutputs'>\n",
      "<class 'mediapipe.python.solution_base.SolutionOutputs'>\n",
      "<class 'mediapipe.python.solution_base.SolutionOutputs'>\n",
      "<class 'mediapipe.python.solution_base.SolutionOutputs'>\n",
      "<class 'mediapipe.python.solution_base.SolutionOutputs'>\n",
      "<class 'mediapipe.python.solution_base.SolutionOutputs'>\n",
      "<class 'mediapipe.python.solution_base.SolutionOutputs'>\n",
      "<class 'mediapipe.python.solution_base.SolutionOutputs'>\n",
      "<class 'mediapipe.python.solution_base.SolutionOutputs'>\n",
      "<class 'mediapipe.python.solution_base.SolutionOutputs'>\n",
      "<class 'mediapipe.python.solution_base.SolutionOutputs'>\n",
      "<class 'mediapipe.python.solution_base.SolutionOutputs'>\n",
      "<class 'mediapipe.python.solution_base.SolutionOutputs'>\n",
      "<class 'mediapipe.python.solution_base.SolutionOutputs'>\n",
      "<class 'mediapipe.python.solution_base.SolutionOutputs'>\n",
      "<class 'mediapipe.python.solution_base.SolutionOutputs'>\n",
      "<class 'mediapipe.python.solution_base.SolutionOutputs'>\n",
      "<class 'mediapipe.python.solution_base.SolutionOutputs'>\n",
      "thanks\n",
      "<class 'mediapipe.python.solution_base.SolutionOutputs'>\n",
      "yes\n",
      "<class 'mediapipe.python.solution_base.SolutionOutputs'>\n",
      "yes\n",
      "<class 'mediapipe.python.solution_base.SolutionOutputs'>\n",
      "yes\n",
      "<class 'mediapipe.python.solution_base.SolutionOutputs'>\n",
      "yes\n",
      "<class 'mediapipe.python.solution_base.SolutionOutputs'>\n",
      "yes\n",
      "<class 'mediapipe.python.solution_base.SolutionOutputs'>\n",
      "yes\n",
      "<class 'mediapipe.python.solution_base.SolutionOutputs'>\n",
      "yes\n",
      "<class 'mediapipe.python.solution_base.SolutionOutputs'>\n",
      "yes\n",
      "<class 'mediapipe.python.solution_base.SolutionOutputs'>\n",
      "yes\n",
      "<class 'mediapipe.python.solution_base.SolutionOutputs'>\n",
      "yes\n",
      "<class 'mediapipe.python.solution_base.SolutionOutputs'>\n",
      "yes\n",
      "<class 'mediapipe.python.solution_base.SolutionOutputs'>\n",
      "yes\n",
      "<class 'mediapipe.python.solution_base.SolutionOutputs'>\n",
      "yes\n",
      "<class 'mediapipe.python.solution_base.SolutionOutputs'>\n",
      "yes\n",
      "<class 'mediapipe.python.solution_base.SolutionOutputs'>\n",
      "yes\n",
      "<class 'mediapipe.python.solution_base.SolutionOutputs'>\n",
      "yes\n",
      "<class 'mediapipe.python.solution_base.SolutionOutputs'>\n",
      "yes\n",
      "<class 'mediapipe.python.solution_base.SolutionOutputs'>\n",
      "yes\n",
      "<class 'mediapipe.python.solution_base.SolutionOutputs'>\n",
      "yes\n",
      "<class 'mediapipe.python.solution_base.SolutionOutputs'>\n",
      "yes\n",
      "<class 'mediapipe.python.solution_base.SolutionOutputs'>\n",
      "yes\n",
      "<class 'mediapipe.python.solution_base.SolutionOutputs'>\n",
      "yes\n",
      "<class 'mediapipe.python.solution_base.SolutionOutputs'>\n",
      "yes\n",
      "<class 'mediapipe.python.solution_base.SolutionOutputs'>\n",
      "yes\n",
      "<class 'mediapipe.python.solution_base.SolutionOutputs'>\n",
      "yes\n",
      "<class 'mediapipe.python.solution_base.SolutionOutputs'>\n",
      "yes\n",
      "<class 'mediapipe.python.solution_base.SolutionOutputs'>\n",
      "yes\n",
      "<class 'mediapipe.python.solution_base.SolutionOutputs'>\n",
      "yes\n",
      "<class 'mediapipe.python.solution_base.SolutionOutputs'>\n",
      "yes\n",
      "<class 'mediapipe.python.solution_base.SolutionOutputs'>\n",
      "yes\n",
      "<class 'mediapipe.python.solution_base.SolutionOutputs'>\n",
      "yes\n",
      "<class 'mediapipe.python.solution_base.SolutionOutputs'>\n",
      "yes\n",
      "<class 'mediapipe.python.solution_base.SolutionOutputs'>\n",
      "yes\n",
      "<class 'mediapipe.python.solution_base.SolutionOutputs'>\n",
      "yes\n",
      "<class 'mediapipe.python.solution_base.SolutionOutputs'>\n",
      "yes\n",
      "<class 'mediapipe.python.solution_base.SolutionOutputs'>\n",
      "yes\n",
      "<class 'mediapipe.python.solution_base.SolutionOutputs'>\n",
      "yes\n",
      "<class 'mediapipe.python.solution_base.SolutionOutputs'>\n",
      "yes\n",
      "<class 'mediapipe.python.solution_base.SolutionOutputs'>\n",
      "yes\n",
      "<class 'mediapipe.python.solution_base.SolutionOutputs'>\n",
      "yes\n",
      "<class 'mediapipe.python.solution_base.SolutionOutputs'>\n",
      "yes\n",
      "<class 'mediapipe.python.solution_base.SolutionOutputs'>\n",
      "iloveyou\n",
      "<class 'mediapipe.python.solution_base.SolutionOutputs'>\n",
      "iloveyou\n",
      "<class 'mediapipe.python.solution_base.SolutionOutputs'>\n",
      "iloveyou\n",
      "<class 'mediapipe.python.solution_base.SolutionOutputs'>\n",
      "iloveyou\n",
      "<class 'mediapipe.python.solution_base.SolutionOutputs'>\n",
      "iloveyou\n",
      "<class 'mediapipe.python.solution_base.SolutionOutputs'>\n",
      "hello\n",
      "<class 'mediapipe.python.solution_base.SolutionOutputs'>\n",
      "hello\n",
      "<class 'mediapipe.python.solution_base.SolutionOutputs'>\n",
      "hello\n",
      "<class 'mediapipe.python.solution_base.SolutionOutputs'>\n",
      "hello\n",
      "<class 'mediapipe.python.solution_base.SolutionOutputs'>\n",
      "hello\n",
      "<class 'mediapipe.python.solution_base.SolutionOutputs'>\n",
      "hello\n",
      "<class 'mediapipe.python.solution_base.SolutionOutputs'>\n",
      "hello\n",
      "<class 'mediapipe.python.solution_base.SolutionOutputs'>\n",
      "hello\n",
      "<class 'mediapipe.python.solution_base.SolutionOutputs'>\n",
      "hello\n",
      "<class 'mediapipe.python.solution_base.SolutionOutputs'>\n",
      "hello\n",
      "<class 'mediapipe.python.solution_base.SolutionOutputs'>\n",
      "hello\n",
      "<class 'mediapipe.python.solution_base.SolutionOutputs'>\n",
      "hello\n",
      "<class 'mediapipe.python.solution_base.SolutionOutputs'>\n",
      "hello\n",
      "<class 'mediapipe.python.solution_base.SolutionOutputs'>\n",
      "hello\n",
      "<class 'mediapipe.python.solution_base.SolutionOutputs'>\n",
      "hello\n",
      "<class 'mediapipe.python.solution_base.SolutionOutputs'>\n",
      "hello\n",
      "<class 'mediapipe.python.solution_base.SolutionOutputs'>\n",
      "hello\n",
      "<class 'mediapipe.python.solution_base.SolutionOutputs'>\n",
      "hello\n",
      "<class 'mediapipe.python.solution_base.SolutionOutputs'>\n",
      "hello\n",
      "<class 'mediapipe.python.solution_base.SolutionOutputs'>\n",
      "hello\n",
      "<class 'mediapipe.python.solution_base.SolutionOutputs'>\n",
      "hello\n",
      "<class 'mediapipe.python.solution_base.SolutionOutputs'>\n",
      "hello\n",
      "<class 'mediapipe.python.solution_base.SolutionOutputs'>\n",
      "hello\n",
      "<class 'mediapipe.python.solution_base.SolutionOutputs'>\n",
      "hello\n",
      "<class 'mediapipe.python.solution_base.SolutionOutputs'>\n",
      "hello\n",
      "<class 'mediapipe.python.solution_base.SolutionOutputs'>\n",
      "hello\n",
      "<class 'mediapipe.python.solution_base.SolutionOutputs'>\n",
      "hello\n",
      "<class 'mediapipe.python.solution_base.SolutionOutputs'>\n",
      "hello\n",
      "<class 'mediapipe.python.solution_base.SolutionOutputs'>\n",
      "hello\n",
      "<class 'mediapipe.python.solution_base.SolutionOutputs'>\n",
      "hello\n",
      "<class 'mediapipe.python.solution_base.SolutionOutputs'>\n",
      "hello\n",
      "<class 'mediapipe.python.solution_base.SolutionOutputs'>\n",
      "hello\n",
      "<class 'mediapipe.python.solution_base.SolutionOutputs'>\n",
      "hello\n",
      "<class 'mediapipe.python.solution_base.SolutionOutputs'>\n",
      "hello\n",
      "<class 'mediapipe.python.solution_base.SolutionOutputs'>\n",
      "hello\n",
      "<class 'mediapipe.python.solution_base.SolutionOutputs'>\n",
      "hello\n",
      "<class 'mediapipe.python.solution_base.SolutionOutputs'>\n",
      "hello\n",
      "<class 'mediapipe.python.solution_base.SolutionOutputs'>\n",
      "hello\n",
      "<class 'mediapipe.python.solution_base.SolutionOutputs'>\n",
      "hello\n",
      "<class 'mediapipe.python.solution_base.SolutionOutputs'>\n",
      "hello\n",
      "<class 'mediapipe.python.solution_base.SolutionOutputs'>\n",
      "hello\n",
      "<class 'mediapipe.python.solution_base.SolutionOutputs'>\n",
      "hello\n",
      "<class 'mediapipe.python.solution_base.SolutionOutputs'>\n",
      "hello\n",
      "<class 'mediapipe.python.solution_base.SolutionOutputs'>\n",
      "hello\n",
      "<class 'mediapipe.python.solution_base.SolutionOutputs'>\n",
      "hello\n",
      "<class 'mediapipe.python.solution_base.SolutionOutputs'>\n",
      "hello\n",
      "<class 'mediapipe.python.solution_base.SolutionOutputs'>\n",
      "hello\n",
      "<class 'mediapipe.python.solution_base.SolutionOutputs'>\n",
      "hello\n",
      "<class 'mediapipe.python.solution_base.SolutionOutputs'>\n",
      "hello\n",
      "<class 'mediapipe.python.solution_base.SolutionOutputs'>\n",
      "hello\n",
      "<class 'mediapipe.python.solution_base.SolutionOutputs'>\n",
      "hello\n",
      "<class 'mediapipe.python.solution_base.SolutionOutputs'>\n",
      "hello\n",
      "<class 'mediapipe.python.solution_base.SolutionOutputs'>\n",
      "hello\n",
      "<class 'mediapipe.python.solution_base.SolutionOutputs'>\n",
      "hello\n",
      "<class 'mediapipe.python.solution_base.SolutionOutputs'>\n",
      "hello\n",
      "<class 'mediapipe.python.solution_base.SolutionOutputs'>\n",
      "hello\n",
      "<class 'mediapipe.python.solution_base.SolutionOutputs'>\n",
      "no\n",
      "<class 'mediapipe.python.solution_base.SolutionOutputs'>\n",
      "no\n",
      "<class 'mediapipe.python.solution_base.SolutionOutputs'>\n",
      "no\n",
      "<class 'mediapipe.python.solution_base.SolutionOutputs'>\n",
      "no\n",
      "<class 'mediapipe.python.solution_base.SolutionOutputs'>\n",
      "no\n",
      "<class 'mediapipe.python.solution_base.SolutionOutputs'>\n",
      "no\n",
      "<class 'mediapipe.python.solution_base.SolutionOutputs'>\n",
      "no\n",
      "<class 'mediapipe.python.solution_base.SolutionOutputs'>\n",
      "no\n",
      "<class 'mediapipe.python.solution_base.SolutionOutputs'>\n",
      "no\n",
      "<class 'mediapipe.python.solution_base.SolutionOutputs'>\n",
      "no\n",
      "<class 'mediapipe.python.solution_base.SolutionOutputs'>\n",
      "no\n",
      "<class 'mediapipe.python.solution_base.SolutionOutputs'>\n",
      "no\n",
      "<class 'mediapipe.python.solution_base.SolutionOutputs'>\n",
      "thanks\n",
      "<class 'mediapipe.python.solution_base.SolutionOutputs'>\n",
      "thanks\n",
      "<class 'mediapipe.python.solution_base.SolutionOutputs'>\n",
      "thanks\n",
      "<class 'mediapipe.python.solution_base.SolutionOutputs'>\n",
      "thanks\n",
      "<class 'mediapipe.python.solution_base.SolutionOutputs'>\n",
      "thanks\n",
      "<class 'mediapipe.python.solution_base.SolutionOutputs'>\n",
      "thanks\n",
      "<class 'mediapipe.python.solution_base.SolutionOutputs'>\n",
      "thanks\n",
      "<class 'mediapipe.python.solution_base.SolutionOutputs'>\n",
      "thanks\n",
      "<class 'mediapipe.python.solution_base.SolutionOutputs'>\n",
      "thanks\n",
      "<class 'mediapipe.python.solution_base.SolutionOutputs'>\n",
      "thanks\n",
      "<class 'mediapipe.python.solution_base.SolutionOutputs'>\n",
      "thanks\n",
      "<class 'mediapipe.python.solution_base.SolutionOutputs'>\n",
      "thanks\n",
      "<class 'mediapipe.python.solution_base.SolutionOutputs'>\n",
      "thanks\n",
      "<class 'mediapipe.python.solution_base.SolutionOutputs'>\n",
      "thanks\n",
      "<class 'mediapipe.python.solution_base.SolutionOutputs'>\n",
      "thanks\n",
      "<class 'mediapipe.python.solution_base.SolutionOutputs'>\n",
      "thanks\n",
      "<class 'mediapipe.python.solution_base.SolutionOutputs'>\n",
      "thanks\n",
      "<class 'mediapipe.python.solution_base.SolutionOutputs'>\n",
      "thanks\n",
      "<class 'mediapipe.python.solution_base.SolutionOutputs'>\n",
      "thanks\n",
      "<class 'mediapipe.python.solution_base.SolutionOutputs'>\n",
      "thanks\n",
      "<class 'mediapipe.python.solution_base.SolutionOutputs'>\n",
      "thanks\n",
      "<class 'mediapipe.python.solution_base.SolutionOutputs'>\n",
      "yes\n",
      "<class 'mediapipe.python.solution_base.SolutionOutputs'>\n",
      "yes\n",
      "<class 'mediapipe.python.solution_base.SolutionOutputs'>\n",
      "yes\n",
      "<class 'mediapipe.python.solution_base.SolutionOutputs'>\n",
      "yes\n",
      "<class 'mediapipe.python.solution_base.SolutionOutputs'>\n",
      "iloveyou\n",
      "<class 'mediapipe.python.solution_base.SolutionOutputs'>\n",
      "iloveyou\n",
      "<class 'mediapipe.python.solution_base.SolutionOutputs'>\n",
      "iloveyou\n",
      "<class 'mediapipe.python.solution_base.SolutionOutputs'>\n",
      "iloveyou\n",
      "<class 'mediapipe.python.solution_base.SolutionOutputs'>\n",
      "iloveyou\n",
      "<class 'mediapipe.python.solution_base.SolutionOutputs'>\n",
      "iloveyou\n",
      "<class 'mediapipe.python.solution_base.SolutionOutputs'>\n",
      "iloveyou\n",
      "<class 'mediapipe.python.solution_base.SolutionOutputs'>\n",
      "iloveyou\n",
      "<class 'mediapipe.python.solution_base.SolutionOutputs'>\n",
      "iloveyou\n",
      "<class 'mediapipe.python.solution_base.SolutionOutputs'>\n",
      "iloveyou\n",
      "<class 'mediapipe.python.solution_base.SolutionOutputs'>\n",
      "iloveyou\n",
      "<class 'mediapipe.python.solution_base.SolutionOutputs'>\n",
      "iloveyou\n",
      "<class 'mediapipe.python.solution_base.SolutionOutputs'>\n",
      "iloveyou\n",
      "<class 'mediapipe.python.solution_base.SolutionOutputs'>\n",
      "iloveyou\n",
      "<class 'mediapipe.python.solution_base.SolutionOutputs'>\n",
      "iloveyou\n",
      "<class 'mediapipe.python.solution_base.SolutionOutputs'>\n",
      "iloveyou\n",
      "<class 'mediapipe.python.solution_base.SolutionOutputs'>\n",
      "yes\n",
      "<class 'mediapipe.python.solution_base.SolutionOutputs'>\n",
      "iloveyou\n",
      "<class 'mediapipe.python.solution_base.SolutionOutputs'>\n",
      "iloveyou\n",
      "<class 'mediapipe.python.solution_base.SolutionOutputs'>\n",
      "iloveyou\n",
      "<class 'mediapipe.python.solution_base.SolutionOutputs'>\n",
      "iloveyou\n",
      "<class 'mediapipe.python.solution_base.SolutionOutputs'>\n",
      "iloveyou\n",
      "<class 'mediapipe.python.solution_base.SolutionOutputs'>\n",
      "iloveyou\n",
      "<class 'mediapipe.python.solution_base.SolutionOutputs'>\n",
      "iloveyou\n",
      "<class 'mediapipe.python.solution_base.SolutionOutputs'>\n",
      "iloveyou\n",
      "<class 'mediapipe.python.solution_base.SolutionOutputs'>\n",
      "iloveyou\n",
      "<class 'mediapipe.python.solution_base.SolutionOutputs'>\n",
      "iloveyou\n",
      "<class 'mediapipe.python.solution_base.SolutionOutputs'>\n",
      "iloveyou\n",
      "<class 'mediapipe.python.solution_base.SolutionOutputs'>\n",
      "iloveyou\n",
      "<class 'mediapipe.python.solution_base.SolutionOutputs'>\n",
      "iloveyou\n",
      "<class 'mediapipe.python.solution_base.SolutionOutputs'>\n",
      "iloveyou\n",
      "<class 'mediapipe.python.solution_base.SolutionOutputs'>\n",
      "iloveyou\n",
      "<class 'mediapipe.python.solution_base.SolutionOutputs'>\n",
      "iloveyou\n",
      "<class 'mediapipe.python.solution_base.SolutionOutputs'>\n",
      "iloveyou\n",
      "<class 'mediapipe.python.solution_base.SolutionOutputs'>\n",
      "iloveyou\n",
      "<class 'mediapipe.python.solution_base.SolutionOutputs'>\n",
      "iloveyou\n",
      "<class 'mediapipe.python.solution_base.SolutionOutputs'>\n",
      "yes\n",
      "<class 'mediapipe.python.solution_base.SolutionOutputs'>\n",
      "yes\n",
      "<class 'mediapipe.python.solution_base.SolutionOutputs'>\n",
      "yes\n",
      "<class 'mediapipe.python.solution_base.SolutionOutputs'>\n",
      "yes\n",
      "<class 'mediapipe.python.solution_base.SolutionOutputs'>\n",
      "yes\n",
      "<class 'mediapipe.python.solution_base.SolutionOutputs'>\n",
      "yes\n",
      "<class 'mediapipe.python.solution_base.SolutionOutputs'>\n",
      "yes\n",
      "<class 'mediapipe.python.solution_base.SolutionOutputs'>\n",
      "yes\n",
      "<class 'mediapipe.python.solution_base.SolutionOutputs'>\n",
      "yes\n",
      "<class 'mediapipe.python.solution_base.SolutionOutputs'>\n",
      "yes\n",
      "<class 'mediapipe.python.solution_base.SolutionOutputs'>\n",
      "yes\n",
      "<class 'mediapipe.python.solution_base.SolutionOutputs'>\n",
      "yes\n",
      "<class 'mediapipe.python.solution_base.SolutionOutputs'>\n",
      "yes\n",
      "<class 'mediapipe.python.solution_base.SolutionOutputs'>\n",
      "yes\n",
      "<class 'mediapipe.python.solution_base.SolutionOutputs'>\n",
      "yes\n",
      "<class 'mediapipe.python.solution_base.SolutionOutputs'>\n",
      "yes\n",
      "<class 'mediapipe.python.solution_base.SolutionOutputs'>\n",
      "yes\n",
      "<class 'mediapipe.python.solution_base.SolutionOutputs'>\n",
      "yes\n",
      "<class 'mediapipe.python.solution_base.SolutionOutputs'>\n",
      "yes\n",
      "<class 'mediapipe.python.solution_base.SolutionOutputs'>\n",
      "yes\n",
      "<class 'mediapipe.python.solution_base.SolutionOutputs'>\n",
      "yes\n",
      "<class 'mediapipe.python.solution_base.SolutionOutputs'>\n",
      "yes\n",
      "<class 'mediapipe.python.solution_base.SolutionOutputs'>\n",
      "yes\n",
      "<class 'mediapipe.python.solution_base.SolutionOutputs'>\n",
      "yes\n",
      "<class 'mediapipe.python.solution_base.SolutionOutputs'>\n",
      "yes\n",
      "<class 'mediapipe.python.solution_base.SolutionOutputs'>\n",
      "yes\n",
      "<class 'mediapipe.python.solution_base.SolutionOutputs'>\n",
      "yes\n",
      "<class 'mediapipe.python.solution_base.SolutionOutputs'>\n",
      "yes\n",
      "<class 'mediapipe.python.solution_base.SolutionOutputs'>\n",
      "yes\n",
      "<class 'mediapipe.python.solution_base.SolutionOutputs'>\n",
      "yes\n",
      "<class 'mediapipe.python.solution_base.SolutionOutputs'>\n",
      "yes\n",
      "<class 'mediapipe.python.solution_base.SolutionOutputs'>\n",
      "yes\n",
      "<class 'mediapipe.python.solution_base.SolutionOutputs'>\n",
      "yes\n",
      "<class 'mediapipe.python.solution_base.SolutionOutputs'>\n",
      "yes\n",
      "<class 'mediapipe.python.solution_base.SolutionOutputs'>\n",
      "yes\n",
      "<class 'mediapipe.python.solution_base.SolutionOutputs'>\n",
      "yes\n",
      "<class 'mediapipe.python.solution_base.SolutionOutputs'>\n",
      "yes\n",
      "<class 'mediapipe.python.solution_base.SolutionOutputs'>\n",
      "yes\n",
      "<class 'mediapipe.python.solution_base.SolutionOutputs'>\n",
      "yes\n",
      "<class 'mediapipe.python.solution_base.SolutionOutputs'>\n",
      "yes\n",
      "<class 'mediapipe.python.solution_base.SolutionOutputs'>\n",
      "no\n",
      "<class 'mediapipe.python.solution_base.SolutionOutputs'>\n",
      "no\n",
      "<class 'mediapipe.python.solution_base.SolutionOutputs'>\n",
      "no\n",
      "<class 'mediapipe.python.solution_base.SolutionOutputs'>\n",
      "no\n",
      "<class 'mediapipe.python.solution_base.SolutionOutputs'>\n",
      "no\n",
      "<class 'mediapipe.python.solution_base.SolutionOutputs'>\n",
      "no\n",
      "<class 'mediapipe.python.solution_base.SolutionOutputs'>\n",
      "no\n",
      "<class 'mediapipe.python.solution_base.SolutionOutputs'>\n",
      "no\n",
      "<class 'mediapipe.python.solution_base.SolutionOutputs'>\n",
      "no\n",
      "<class 'mediapipe.python.solution_base.SolutionOutputs'>\n",
      "no\n",
      "<class 'mediapipe.python.solution_base.SolutionOutputs'>\n",
      "no\n",
      "<class 'mediapipe.python.solution_base.SolutionOutputs'>\n",
      "no\n",
      "<class 'mediapipe.python.solution_base.SolutionOutputs'>\n",
      "no\n",
      "<class 'mediapipe.python.solution_base.SolutionOutputs'>\n",
      "no\n",
      "<class 'mediapipe.python.solution_base.SolutionOutputs'>\n",
      "no\n",
      "<class 'mediapipe.python.solution_base.SolutionOutputs'>\n",
      "no\n",
      "<class 'mediapipe.python.solution_base.SolutionOutputs'>\n",
      "no\n",
      "<class 'mediapipe.python.solution_base.SolutionOutputs'>\n",
      "no\n",
      "<class 'mediapipe.python.solution_base.SolutionOutputs'>\n",
      "no\n",
      "<class 'mediapipe.python.solution_base.SolutionOutputs'>\n",
      "no\n",
      "<class 'mediapipe.python.solution_base.SolutionOutputs'>\n",
      "no\n",
      "<class 'mediapipe.python.solution_base.SolutionOutputs'>\n",
      "no\n",
      "<class 'mediapipe.python.solution_base.SolutionOutputs'>\n",
      "no\n",
      "<class 'mediapipe.python.solution_base.SolutionOutputs'>\n",
      "no\n",
      "<class 'mediapipe.python.solution_base.SolutionOutputs'>\n",
      "no\n",
      "<class 'mediapipe.python.solution_base.SolutionOutputs'>\n",
      "no\n",
      "<class 'mediapipe.python.solution_base.SolutionOutputs'>\n",
      "help\n",
      "<class 'mediapipe.python.solution_base.SolutionOutputs'>\n",
      "help\n",
      "<class 'mediapipe.python.solution_base.SolutionOutputs'>\n",
      "help\n",
      "<class 'mediapipe.python.solution_base.SolutionOutputs'>\n",
      "help\n",
      "<class 'mediapipe.python.solution_base.SolutionOutputs'>\n",
      "help\n",
      "<class 'mediapipe.python.solution_base.SolutionOutputs'>\n",
      "help\n",
      "<class 'mediapipe.python.solution_base.SolutionOutputs'>\n",
      "help\n",
      "<class 'mediapipe.python.solution_base.SolutionOutputs'>\n",
      "help\n",
      "<class 'mediapipe.python.solution_base.SolutionOutputs'>\n",
      "help\n",
      "<class 'mediapipe.python.solution_base.SolutionOutputs'>\n",
      "help\n",
      "<class 'mediapipe.python.solution_base.SolutionOutputs'>\n",
      "help\n",
      "<class 'mediapipe.python.solution_base.SolutionOutputs'>\n",
      "help\n",
      "<class 'mediapipe.python.solution_base.SolutionOutputs'>\n",
      "help\n",
      "<class 'mediapipe.python.solution_base.SolutionOutputs'>\n",
      "help\n",
      "<class 'mediapipe.python.solution_base.SolutionOutputs'>\n",
      "help\n",
      "<class 'mediapipe.python.solution_base.SolutionOutputs'>\n",
      "help\n",
      "<class 'mediapipe.python.solution_base.SolutionOutputs'>\n",
      "help\n",
      "<class 'mediapipe.python.solution_base.SolutionOutputs'>\n",
      "help\n",
      "<class 'mediapipe.python.solution_base.SolutionOutputs'>\n",
      "help\n",
      "<class 'mediapipe.python.solution_base.SolutionOutputs'>\n",
      "help\n",
      "<class 'mediapipe.python.solution_base.SolutionOutputs'>\n",
      "help\n"
     ]
    }
   ],
   "source": [
    "# 1. New detection variables\n",
    "sequence = []\n",
    "sentence = []\n",
    "threshold = 0.8\n",
    "\n",
    "cap = cv2.VideoCapture(0)\n",
    "# Set mediapipe model \n",
    "with mp_holistic.Holistic(min_detection_confidence=0.5, min_tracking_confidence=0.5) as holistic:\n",
    "    while cap.isOpened():\n",
    "\n",
    "        # Read feed\n",
    "        ret, frame = cap.read()\n",
    "\n",
    "        # Make detections\n",
    "        image, results = mediapipe_detection(frame, holistic)\n",
    "        print(results)\n",
    "        \n",
    "        # Draw landmarks\n",
    "        draw_styled_landmarks(image, results)\n",
    "        \n",
    "        # 2. Prediction logic\n",
    "        keypoints = extract_keypoints(results)\n",
    "\n",
    "        sequence.append(keypoints)\n",
    "        sequence = sequence[-30:]\n",
    "        \n",
    "        if len(sequence) == 30:\n",
    "            res = best_model.model.predict(np.expand_dims(sequence, axis=0))[0]\n",
    "            print(actions[np.argmax(res)])\n",
    "            \n",
    "            \n",
    "        #3. Viz logic\n",
    "            if res[np.argmax(res)] > threshold: \n",
    "                if len(sentence) > 0: \n",
    "                    if actions[np.argmax(res)] != sentence[-1]:\n",
    "                        sentence.append(actions[np.argmax(res)])\n",
    "                else:\n",
    "                    sentence.append(actions[np.argmax(res)])\n",
    "\n",
    "            if len(sentence) > 5: \n",
    "                sentence = sentence[-5:]\n",
    "\n",
    "            # Viz probabilities\n",
    "            image = prob_viz(res, actions, image, colors)\n",
    "            \n",
    "        cv2.rectangle(image, (0,0), (640, 40), (245, 117, 16), -1)\n",
    "        cv2.putText(image, ' '.join(sentence), (3,30), \n",
    "                       cv2.FONT_HERSHEY_SIMPLEX, 1, (255, 255, 255), 2, cv2.LINE_AA)\n",
    "        \n",
    "        # Show to screen\n",
    "        cv2.imshow('OpenCV Feed', image)\n",
    "\n",
    "        # Break gracefully\n",
    "        if cv2.waitKey(10) & 0xFF == ord('q'):\n",
    "            break\n",
    "    cap.release()\n",
    "    cv2.destroyAllWindows()"
   ]
  },
  {
   "cell_type": "code",
   "execution_count": 109,
   "metadata": {},
   "outputs": [],
   "source": [
    "cap.release()\n",
    "cv2.destroyAllWindows()"
   ]
  },
  {
   "cell_type": "code",
   "execution_count": 110,
   "metadata": {},
   "outputs": [
    {
     "data": {
      "text/plain": [
       "True"
      ]
     },
     "execution_count": 110,
     "metadata": {},
     "output_type": "execute_result"
    }
   ],
   "source": [
    "res[np.argmax(res)] > threshold"
   ]
  },
  {
   "cell_type": "code",
   "execution_count": 111,
   "metadata": {},
   "outputs": [
    {
     "data": {
      "text/plain": [
       "(None, 30, 258)"
      ]
     },
     "execution_count": 111,
     "metadata": {},
     "output_type": "execute_result"
    }
   ],
   "source": [
    "(None,30,258)"
   ]
  },
  {
   "cell_type": "code",
   "execution_count": 112,
   "metadata": {},
   "outputs": [
    {
     "data": {
      "text/plain": [
       "array([[9.9998045e-01, 5.3708168e-06, 3.3681877e-06, 2.9635260e-07,\n",
       "        9.6352469e-06, 9.2131461e-07]], dtype=float32)"
      ]
     },
     "execution_count": 112,
     "metadata": {},
     "output_type": "execute_result"
    }
   ],
   "source": [
    "best_model.model.predict(np.expand_dims(X_test[0], axis=0))"
   ]
  },
  {
   "cell_type": "code",
   "execution_count": 113,
   "metadata": {},
   "outputs": [
    {
     "name": "stdout",
     "output_type": "stream",
     "text": [
      "opencv-python 4.9.0.80\n",
      "Babel 2.11.0\n",
      "Bottleneck 1.3.5\n",
      "Brotli 1.0.9\n",
      "Jinja2 3.1.3\n",
      "Keras-Applications 1.0.8\n",
      "Keras-Preprocessing 1.1.2\n",
      "Markdown 3.4.1\n",
      "MarkupSafe 2.1.3\n",
      "PyJWT 2.4.0\n",
      "PyQt5 5.15.10\n",
      "PyQt5-sip 12.13.0\n",
      "PySocks 1.7.1\n",
      "PyWavelets 1.4.1\n",
      "PyYAML 6.0.1\n",
      "Pygments 2.15.1\n",
      "Send2Trash 1.8.2\n",
      "absl-py 0.15.0\n",
      "aiohttp 3.9.3\n",
      "aiosignal 1.2.0\n",
      "anyio 4.2.0\n",
      "argon2-cffi 21.3.0\n",
      "argon2-cffi-bindings 21.2.0\n",
      "astor 0.8.1\n",
      "asttokens 2.0.5\n",
      "astunparse 1.6.3\n",
      "async-lru 2.0.4\n",
      "async-timeout 4.0.3\n",
      "attrs 23.1.0\n",
      "backcall 0.2.0\n",
      "beautifulsoup4 4.12.2\n",
      "bleach 4.1.0\n",
      "blinker 1.6.2\n",
      "bokeh 3.1.1\n",
      "cachetools 4.2.2\n",
      "category-encoders 2.6.3\n",
      "certifi 2024.2.2\n",
      "cffi 1.16.0\n",
      "charset-normalizer 3.3.2\n",
      "click 8.1.7\n",
      "cloudpickle 2.2.1\n",
      "colorama 0.4.6\n",
      "comm 0.2.1\n",
      "contourpy 1.0.5\n",
      "cryptography 42.0.5\n",
      "cycler 0.11.0\n",
      "cytoolz 0.12.2\n",
      "daal4py 2023.0.2\n",
      "dask 2023.4.1\n",
      "debugpy 1.6.7\n",
      "decorator 5.1.1\n",
      "defusedxml 0.7.1\n",
      "exceptiongroup 1.2.0\n",
      "executing 0.8.3\n",
      "fastjsonschema 2.16.2\n",
      "flatbuffers 1.12\n",
      "fonttools 4.25.0\n",
      "frozenlist 1.4.0\n",
      "fsspec 2023.10.0\n",
      "gast 0.3.3\n",
      "google-auth 2.29.0\n",
      "google-auth-oauthlib 0.4.6\n",
      "google-pasta 0.2.0\n",
      "graphviz 0.20.1\n",
      "grpcio 1.32.0\n",
      "h5py 2.10.0\n",
      "idna 3.4\n",
      "imagecodecs 2021.8.26\n",
      "imageio 2.33.1\n",
      "importlib-metadata 7.0.1\n",
      "importlib-resources 6.1.1\n",
      "ipykernel 6.28.0\n",
      "ipython 8.12.2\n",
      "jax 0.4.13\n",
      "jedi 0.18.1\n",
      "joblib 1.2.0\n",
      "json5 0.9.6\n",
      "jsonschema 4.19.2\n",
      "jsonschema-specifications 2023.7.1\n",
      "jupyter-client 8.6.0\n",
      "jupyter-core 5.5.0\n",
      "jupyter-events 0.8.0\n",
      "jupyter-lsp 2.2.0\n",
      "jupyter-server 2.10.0\n",
      "jupyter-server-terminals 0.4.4\n",
      "jupyterlab 4.0.11\n",
      "jupyterlab-pygments 0.1.2\n",
      "jupyterlab-server 2.25.1\n",
      "keras 2.13.1\n",
      "keras-nightly 2.5.0.dev2021032900\n",
      "kiwisolver 1.4.4\n",
      "libclang 18.1.1\n",
      "livelossplot 0.5.5\n",
      "locket 1.0.0\n",
      "matplotlib 3.6.2\n",
      "matplotlib-inline 0.1.6\n",
      "mediapipe 0.8.11\n",
      "mistune 2.0.4\n",
      "mkl-fft 1.3.0\n",
      "mkl-random 1.1.1\n",
      "mkl-service 2.3.0\n",
      "ml-dtypes 0.2.0\n",
      "multidict 6.0.4\n",
      "munkres 1.1.4\n",
      "nbclient 0.8.0\n",
      "nbconvert 7.10.0\n",
      "nbformat 5.9.2\n",
      "nest-asyncio 1.6.0\n",
      "networkx 3.1\n",
      "notebook 7.0.8\n",
      "notebook-shim 0.2.3\n",
      "numexpr 2.7.3\n",
      "numpy 1.19.5\n",
      "oauthlib 3.2.2\n",
      "opencv-contrib-python 4.9.0.80\n",
      "opt-einsum 3.3.0\n",
      "overrides 7.4.0\n",
      "packaging 23.2\n",
      "pandas 1.4.4\n",
      "pandocfilters 1.5.0\n",
      "parso 0.8.3\n",
      "partd 1.4.1\n",
      "patsy 0.5.3\n",
      "pickleshare 0.7.5\n",
      "pillow 10.2.0\n",
      "pip 23.3.1\n",
      "pkgutil-resolve-name 1.3.10\n",
      "platformdirs 3.10.0\n",
      "ply 3.11\n",
      "prometheus-client 0.14.1\n",
      "prompt-toolkit 3.0.43\n",
      "protobuf 3.20.3\n",
      "psutil 5.9.0\n",
      "pure-eval 0.2.2\n",
      "pyOpenSSL 24.0.0\n",
      "pyasn1 0.4.8\n",
      "pyasn1-modules 0.2.8\n",
      "pycparser 2.21\n",
      "pydot 1.4.2\n",
      "pydotplus 2.0.2\n",
      "pygraphviz 1.9\n",
      "pyparsing 2.4.7\n",
      "pyreadline 2.1\n",
      "python-dateutil 2.8.2\n",
      "python-json-logger 2.0.7\n",
      "pytz 2023.3.post1\n",
      "pywin32 305.1\n",
      "pywinpty 2.0.10\n",
      "pyzmq 25.1.2\n",
      "referencing 0.30.2\n",
      "requests 2.31.0\n",
      "requests-oauthlib 1.3.0\n",
      "rfc3339-validator 0.1.4\n",
      "rfc3986-validator 0.1.1\n",
      "rpds-py 0.10.6\n",
      "rsa 4.7.2\n",
      "scikit-image 0.19.3\n",
      "scikit-learn 1.1.3\n",
      "scikit-learn-intelex 20230228.214506\n",
      "scipy 1.10.1\n",
      "seaborn 0.12.2\n",
      "setuptools 69.2.0\n",
      "sip 6.7.12\n",
      "six 1.15.0\n",
      "sklearn-pandas 2.2.0\n",
      "sniffio 1.3.0\n",
      "sounddevice 0.4.6\n",
      "soupsieve 2.5\n",
      "stack-data 0.2.0\n",
      "statsmodels 0.13.5\n",
      "tensorboard 2.11.2\n",
      "tensorboard-data-server 0.6.1\n",
      "tensorboard-plugin-wit 1.8.1\n",
      "tensorflow 2.4.1\n",
      "tensorflow-estimator 2.4.0\n",
      "tensorflow-gpu 2.4.1\n",
      "tensorflow-intel 2.13.0\n",
      "tensorflow-io-gcs-filesystem 0.31.0\n",
      "termcolor 1.1.0\n",
      "terminado 0.17.1\n",
      "threadpoolctl 2.2.0\n",
      "tifffile 2021.7.2\n",
      "tinycss2 1.2.1\n",
      "tomli 2.0.1\n",
      "toolz 0.12.0\n",
      "tornado 6.3.3\n",
      "traitlets 5.7.1\n",
      "typing-extensions 3.7.4.3\n",
      "urllib3 2.2.1\n",
      "wcwidth 0.2.5\n",
      "webencodings 0.5.1\n",
      "websocket-client 0.58.0\n",
      "werkzeug 2.3.8\n",
      "wheel 0.43.0\n",
      "win-inet-pton 1.1.0\n",
      "wrapt 1.12.1\n",
      "xyzservices 2024.4.0\n",
      "yarl 1.9.3\n",
      "zipp 3.18.1\n",
      "-harset-normalizer 2.0.4\n"
     ]
    }
   ],
   "source": [
    "import pkg_resources\n",
    "\n",
    "# List all installed packages and their versions\n",
    "installed_packages = pkg_resources.working_set\n",
    "for package in installed_packages:\n",
    "    print(package)"
   ]
  },
  {
   "cell_type": "code",
   "execution_count": 114,
   "metadata": {},
   "outputs": [
    {
     "name": "stdout",
     "output_type": "stream",
     "text": [
      "Package                      Version\n",
      "---------------------------- -------------------\n",
      "absl-py                      0.15.0\n",
      "aiohttp                      3.9.3\n",
      "aiosignal                    1.2.0\n",
      "anyio                        4.2.0\n",
      "argon2-cffi                  21.3.0\n",
      "argon2-cffi-bindings         21.2.0\n",
      "astor                        0.8.1\n",
      "asttokens                    2.0.5\n",
      "astunparse                   1.6.3\n",
      "async-lru                    2.0.4\n",
      "async-timeout                4.0.3\n",
      "attrs                        23.1.0\n",
      "Babel                        2.11.0\n",
      "backcall                     0.2.0\n",
      "beautifulsoup4               4.12.2\n",
      "bleach                       4.1.0\n",
      "blinker                      1.6.2\n",
      "bokeh                        3.1.1\n",
      "Bottleneck                   1.3.5\n",
      "Brotli                       1.0.9\n",
      "cachetools                   4.2.2\n",
      "category-encoders            2.6.3\n",
      "certifi                      2024.2.2\n",
      "cffi                         1.16.0\n",
      "charset-normalizer           3.3.2\n",
      "click                        8.1.7\n",
      "cloudpickle                  2.2.1\n",
      "colorama                     0.4.6\n",
      "comm                         0.2.1\n",
      "contourpy                    1.0.5\n",
      "cryptography                 42.0.5\n",
      "cycler                       0.11.0\n",
      "cytoolz                      0.12.2\n",
      "daal4py                      2023.0.2\n",
      "dask                         2023.4.1\n",
      "debugpy                      1.6.7\n",
      "decorator                    5.1.1\n",
      "defusedxml                   0.7.1\n",
      "exceptiongroup               1.2.0\n",
      "executing                    0.8.3\n",
      "fastjsonschema               2.16.2\n",
      "flatbuffers                  1.12\n",
      "fonttools                    4.25.0\n",
      "frozenlist                   1.4.0\n",
      "fsspec                       2023.10.0\n",
      "gast                         0.3.3\n",
      "google-auth                  2.29.0\n",
      "google-auth-oauthlib         0.4.6\n",
      "google-pasta                 0.2.0\n",
      "graphviz                     0.20.1\n",
      "grpcio                       1.32.0\n",
      "h5py                         2.10.0\n",
      "idna                         3.4\n",
      "imagecodecs                  2021.8.26\n",
      "imageio                      2.33.1\n",
      "importlib-metadata           7.0.1\n",
      "importlib-resources          6.1.1\n",
      "ipykernel                    6.28.0\n",
      "ipython                      8.12.2\n",
      "jax                          0.4.13\n",
      "jedi                         0.18.1\n",
      "Jinja2                       3.1.3\n",
      "joblib                       1.2.0\n",
      "json5                        0.9.6\n",
      "jsonschema                   4.19.2\n",
      "jsonschema-specifications    2023.7.1\n",
      "jupyter_client               8.6.0\n",
      "jupyter_core                 5.5.0\n",
      "jupyter-events               0.8.0\n",
      "jupyter-lsp                  2.2.0\n",
      "jupyter_server               2.10.0\n",
      "jupyter_server_terminals     0.4.4\n",
      "jupyterlab                   4.0.11\n",
      "jupyterlab-pygments          0.1.2\n",
      "jupyterlab_server            2.25.1\n",
      "keras                        2.13.1\n",
      "Keras-Applications           1.0.8\n",
      "keras-nightly                2.5.0.dev2021032900\n",
      "Keras-Preprocessing          1.1.2\n",
      "kiwisolver                   1.4.4\n",
      "libclang                     18.1.1\n",
      "livelossplot                 0.5.5\n",
      "locket                       1.0.0\n",
      "Markdown                     3.4.1\n",
      "MarkupSafe                   2.1.3\n",
      "matplotlib                   3.6.2\n",
      "matplotlib-inline            0.1.6\n",
      "mediapipe                    0.8.11\n",
      "mistune                      2.0.4\n",
      "mkl-fft                      1.3.0\n",
      "mkl-random                   1.1.1\n",
      "mkl-service                  2.3.0\n",
      "ml-dtypes                    0.2.0\n",
      "multidict                    6.0.4\n",
      "munkres                      1.1.4\n",
      "nbclient                     0.8.0\n",
      "nbconvert                    7.10.0\n",
      "nbformat                     5.9.2\n",
      "nest-asyncio                 1.6.0\n",
      "networkx                     3.1\n",
      "notebook                     7.0.8\n",
      "notebook_shim                0.2.3\n",
      "numexpr                      2.7.3\n",
      "numpy                        1.19.5\n",
      "oauthlib                     3.2.2\n",
      "opencv-contrib-python        4.9.0.80\n",
      "opencv-python                4.9.0.80\n",
      "opt-einsum                   3.3.0\n",
      "overrides                    7.4.0\n",
      "packaging                    23.2\n",
      "pandas                       1.4.4\n",
      "pandocfilters                1.5.0\n",
      "parso                        0.8.3\n",
      "partd                        1.4.1\n",
      "patsy                        0.5.3\n",
      "pickleshare                  0.7.5\n",
      "pillow                       10.2.0\n",
      "pip                          23.3.1\n",
      "pkgutil_resolve_name         1.3.10\n",
      "platformdirs                 3.10.0\n",
      "ply                          3.11\n",
      "prometheus-client            0.14.1\n",
      "prompt-toolkit               3.0.43\n",
      "protobuf                     3.20.3\n",
      "psutil                       5.9.0\n",
      "pure-eval                    0.2.2\n",
      "pyasn1                       0.4.8\n",
      "pyasn1-modules               0.2.8\n",
      "pycparser                    2.21\n",
      "pydot                        1.4.2\n",
      "pydotplus                    2.0.2\n",
      "Pygments                     2.15.1\n",
      "pygraphviz                   1.9\n",
      "PyJWT                        2.4.0\n",
      "pyOpenSSL                    24.0.0\n",
      "pyparsing                    2.4.7\n",
      "PyQt5                        5.15.10\n",
      "PyQt5-sip                    12.13.0\n",
      "pyreadline                   2.1\n",
      "PySocks                      1.7.1\n",
      "python-dateutil              2.8.2\n",
      "python-json-logger           2.0.7\n",
      "pytz                         2023.3.post1\n",
      "PyWavelets                   1.4.1\n",
      "pywin32                      305.1\n",
      "pywinpty                     2.0.10\n",
      "PyYAML                       6.0.1\n",
      "pyzmq                        25.1.2\n",
      "referencing                  0.30.2\n",
      "requests                     2.31.0\n",
      "requests-oauthlib            1.3.0\n",
      "rfc3339-validator            0.1.4\n",
      "rfc3986-validator            0.1.1\n",
      "rpds-py                      0.10.6\n",
      "rsa                          4.7.2\n",
      "scikit-image                 0.19.3\n",
      "scikit-learn                 1.1.3\n",
      "scikit-learn-intelex         20230228.214506\n",
      "scipy                        1.10.1\n",
      "seaborn                      0.12.2\n",
      "Send2Trash                   1.8.2\n",
      "setuptools                   69.2.0\n",
      "sip                          6.7.12\n",
      "six                          1.15.0\n",
      "sklearn-pandas               2.2.0\n",
      "sniffio                      1.3.0\n",
      "sounddevice                  0.4.6\n",
      "soupsieve                    2.5\n",
      "stack-data                   0.2.0\n",
      "statsmodels                  0.13.5\n",
      "tensorboard                  2.11.2\n",
      "tensorboard-data-server      0.6.1\n",
      "tensorboard-plugin-wit       1.8.1\n",
      "tensorflow                   2.4.1\n",
      "tensorflow-estimator         2.4.0\n",
      "tensorflow-gpu               2.4.1\n",
      "tensorflow-intel             2.13.0\n",
      "tensorflow-io-gcs-filesystem 0.31.0\n",
      "termcolor                    1.1.0\n",
      "terminado                    0.17.1\n",
      "threadpoolctl                2.2.0\n",
      "tifffile                     2021.7.2\n",
      "tinycss2                     1.2.1\n",
      "tomli                        2.0.1\n",
      "toolz                        0.12.0\n",
      "tornado                      6.3.3\n",
      "traitlets                    5.7.1\n",
      "typing-extensions            3.7.4.3\n",
      "urllib3                      2.2.1\n",
      "wcwidth                      0.2.5\n",
      "webencodings                 0.5.1\n",
      "websocket-client             0.58.0\n",
      "Werkzeug                     2.3.8\n",
      "wheel                        0.43.0\n",
      "win-inet-pton                1.1.0\n",
      "wrapt                        1.12.1\n",
      "xyzservices                  2024.4.0\n",
      "yarl                         1.9.3\n",
      "zipp                         3.18.1\n",
      "Note: you may need to restart the kernel to use updated packages.\n"
     ]
    },
    {
     "name": "stderr",
     "output_type": "stream",
     "text": [
      "WARNING: Ignoring invalid distribution -harset-normalizer (f:\\anacondaaa2\\envs\\ev_8\\lib\\site-packages)\n"
     ]
    }
   ],
   "source": [
    "pip list"
   ]
  },
  {
   "cell_type": "code",
   "execution_count": null,
   "metadata": {},
   "outputs": [],
   "source": []
  }
 ],
 "metadata": {
  "kernelspec": {
   "display_name": "Python 3 (ipykernel)",
   "language": "python",
   "name": "python3"
  },
  "language_info": {
   "codemirror_mode": {
    "name": "ipython",
    "version": 3
   },
   "file_extension": ".py",
   "mimetype": "text/x-python",
   "name": "python",
   "nbconvert_exporter": "python",
   "pygments_lexer": "ipython3",
   "version": "3.8.19"
  }
 },
 "nbformat": 4,
 "nbformat_minor": 4
}
